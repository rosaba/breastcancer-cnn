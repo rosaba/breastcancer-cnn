{
 "cells": [
  {
   "cell_type": "markdown",
   "metadata": {},
   "source": [
    "# Imports"
   ]
  },
  {
   "cell_type": "code",
   "execution_count": 85,
   "metadata": {},
   "outputs": [],
   "source": [
    "import tensorflow as tf\n",
    "import pandas as pd\n",
    "import numpy as np\n",
    "import os\n",
    "import cv2\n",
    "import shutil\n",
    "from unittest import TestCase\n",
    "import matplotlib.pyplot as plt\n",
    "from sklearn.model_selection import train_test_split"
   ]
  },
  {
   "cell_type": "markdown",
   "metadata": {},
   "source": [
    "# Data preparation\n",
    "\n",
    "The data is downloaded from kaggle and stored at the filepath stated below. As the size is too big, the folder is not added to git.\n",
    "Concerning the data: Each patient has an own folder with the patient_id and in it there are two classes: 0 for no-breastcancer-pictures and 1 for pictures with breast cancer on it"
   ]
  },
  {
   "cell_type": "code",
   "execution_count": 18,
   "metadata": {},
   "outputs": [
    {
     "name": "stdout",
     "output_type": "stream",
     "text": [
      "The data contains pictures from 279 patients.\n"
     ]
    }
   ],
   "source": [
    "filepath = 'data/breast-histopathology-images'\n",
    "all_patients_folders = os.listdir(filepath)\n",
    "\n",
    "print('The data contains pictures from ' + str(len(all_patients_folders)) + ' patients.')"
   ]
  },
  {
   "cell_type": "markdown",
   "metadata": {},
   "source": [
    "## Copy all images from their seperate folders to one single folder"
   ]
  },
  {
   "cell_type": "code",
   "execution_count": 20,
   "metadata": {},
   "outputs": [],
   "source": [
    "#create folder to save all collected data in (only execute once)\n",
    "\n",
    "#final directory to store all images:\n",
    "all_data_dir = 'data/all_data'\n",
    "\n",
    "#create folder\n",
    "os.mkdir(all_data_dir)"
   ]
  },
  {
   "cell_type": "code",
   "execution_count": 19,
   "metadata": {},
   "outputs": [],
   "source": [
    "#save all pictures from different folders to one single folder (only execute once; takes a while)\n",
    "\n",
    "for patient in all_patients_folders:\n",
    "    \n",
    "    path_0 = filepath + '/' + str(patient) + '/0'\n",
    "    path_1 = filepath + '/' + str(patient) + '/1'\n",
    "\n",
    "\n",
    "    # create a list of all files in folder 0\n",
    "    file_list_0 = os.listdir(path_0)\n",
    "    # create a list of all files in folder 1\n",
    "    file_list_1 = os.listdir(path_1)\n",
    "\n",
    "    # move the 0 images to all_data\n",
    "    for fname in file_list_0:\n",
    "\n",
    "        # source path to image\n",
    "        src = os.path.join(path_0, fname)\n",
    "        # destination path to image\n",
    "        dst = os.path.join(all_data_dir, fname)\n",
    "        # copy the image from the source to the destination\n",
    "        shutil.copyfile(src, dst)\n",
    "\n",
    "\n",
    "    # move the 1 images to all_images_dir\n",
    "    for fname in file_list_1:\n",
    "\n",
    "        # source path to image\n",
    "        src = os.path.join(path_1, fname)\n",
    "        # destination path to image\n",
    "        dst = os.path.join(all_data_dir, fname)\n",
    "        # copy the image from the source to the destination\n",
    "        shutil.copyfile(src, dst)\n"
   ]
  },
  {
   "cell_type": "code",
   "execution_count": 43,
   "metadata": {},
   "outputs": [],
   "source": [
    "#check whether the process worked:\n",
    "expected_data_size = 277524\n",
    "actual_data_size = len(os.listdir(all_data_dir))\n",
    "\n",
    "assert (expected_data_size == actual_data_size), 'The numbers do not match. Something wrong with data summing!'"
   ]
  },
  {
   "cell_type": "markdown",
   "metadata": {},
   "source": [
    "## Create a pandas df to contain all the information"
   ]
  },
  {
   "cell_type": "code",
   "execution_count": 46,
   "metadata": {},
   "outputs": [
    {
     "data": {
      "text/html": [
       "<div>\n",
       "<style scoped>\n",
       "    .dataframe tbody tr th:only-of-type {\n",
       "        vertical-align: middle;\n",
       "    }\n",
       "\n",
       "    .dataframe tbody tr th {\n",
       "        vertical-align: top;\n",
       "    }\n",
       "\n",
       "    .dataframe thead th {\n",
       "        text-align: right;\n",
       "    }\n",
       "</style>\n",
       "<table border=\"1\" class=\"dataframe\">\n",
       "  <thead>\n",
       "    <tr style=\"text-align: right;\">\n",
       "      <th></th>\n",
       "      <th>image_name</th>\n",
       "    </tr>\n",
       "  </thead>\n",
       "  <tbody>\n",
       "    <tr>\n",
       "      <th>0</th>\n",
       "      <td>10278_idx5_x1451_y601_class0.png</td>\n",
       "    </tr>\n",
       "    <tr>\n",
       "      <th>1</th>\n",
       "      <td>10285_idx5_x451_y2451_class0.png</td>\n",
       "    </tr>\n",
       "    <tr>\n",
       "      <th>2</th>\n",
       "      <td>15513_idx5_x101_y451_class0.png</td>\n",
       "    </tr>\n",
       "    <tr>\n",
       "      <th>3</th>\n",
       "      <td>9254_idx5_x2951_y901_class1.png</td>\n",
       "    </tr>\n",
       "    <tr>\n",
       "      <th>4</th>\n",
       "      <td>16552_idx5_x651_y901_class0.png</td>\n",
       "    </tr>\n",
       "  </tbody>\n",
       "</table>\n",
       "</div>"
      ],
      "text/plain": [
       "                         image_name\n",
       "0  10278_idx5_x1451_y601_class0.png\n",
       "1  10285_idx5_x451_y2451_class0.png\n",
       "2   15513_idx5_x101_y451_class0.png\n",
       "3   9254_idx5_x2951_y901_class1.png\n",
       "4   16552_idx5_x651_y901_class0.png"
      ]
     },
     "execution_count": 46,
     "metadata": {},
     "output_type": "execute_result"
    }
   ],
   "source": [
    "all_images = os.listdir(all_data_dir)\n",
    "df_data = pd.DataFrame(all_images, columns=['image_name'])\n",
    "df_data.head()"
   ]
  },
  {
   "cell_type": "code",
   "execution_count": 47,
   "metadata": {},
   "outputs": [
    {
     "data": {
      "text/html": [
       "<div>\n",
       "<style scoped>\n",
       "    .dataframe tbody tr th:only-of-type {\n",
       "        vertical-align: middle;\n",
       "    }\n",
       "\n",
       "    .dataframe tbody tr th {\n",
       "        vertical-align: top;\n",
       "    }\n",
       "\n",
       "    .dataframe thead th {\n",
       "        text-align: right;\n",
       "    }\n",
       "</style>\n",
       "<table border=\"1\" class=\"dataframe\">\n",
       "  <thead>\n",
       "    <tr style=\"text-align: right;\">\n",
       "      <th></th>\n",
       "      <th>image_name</th>\n",
       "      <th>patient_id</th>\n",
       "      <th>target</th>\n",
       "    </tr>\n",
       "  </thead>\n",
       "  <tbody>\n",
       "    <tr>\n",
       "      <th>0</th>\n",
       "      <td>10278_idx5_x1451_y601_class0.png</td>\n",
       "      <td>10278</td>\n",
       "      <td>0</td>\n",
       "    </tr>\n",
       "    <tr>\n",
       "      <th>1</th>\n",
       "      <td>10285_idx5_x451_y2451_class0.png</td>\n",
       "      <td>10285</td>\n",
       "      <td>0</td>\n",
       "    </tr>\n",
       "    <tr>\n",
       "      <th>2</th>\n",
       "      <td>15513_idx5_x101_y451_class0.png</td>\n",
       "      <td>15513</td>\n",
       "      <td>0</td>\n",
       "    </tr>\n",
       "    <tr>\n",
       "      <th>3</th>\n",
       "      <td>9254_idx5_x2951_y901_class1.png</td>\n",
       "      <td>9254</td>\n",
       "      <td>1</td>\n",
       "    </tr>\n",
       "    <tr>\n",
       "      <th>4</th>\n",
       "      <td>16552_idx5_x651_y901_class0.png</td>\n",
       "      <td>16552</td>\n",
       "      <td>0</td>\n",
       "    </tr>\n",
       "    <tr>\n",
       "      <th>5</th>\n",
       "      <td>9322_idx5_x2951_y1501_class1.png</td>\n",
       "      <td>9322</td>\n",
       "      <td>1</td>\n",
       "    </tr>\n",
       "    <tr>\n",
       "      <th>6</th>\n",
       "      <td>10269_idx5_x2151_y2051_class0.png</td>\n",
       "      <td>10269</td>\n",
       "      <td>0</td>\n",
       "    </tr>\n",
       "    <tr>\n",
       "      <th>7</th>\n",
       "      <td>13689_idx5_x851_y1651_class0.png</td>\n",
       "      <td>13689</td>\n",
       "      <td>0</td>\n",
       "    </tr>\n",
       "    <tr>\n",
       "      <th>8</th>\n",
       "      <td>9076_idx5_x2151_y1751_class1.png</td>\n",
       "      <td>9076</td>\n",
       "      <td>1</td>\n",
       "    </tr>\n",
       "    <tr>\n",
       "      <th>9</th>\n",
       "      <td>10288_idx5_x2551_y1001_class0.png</td>\n",
       "      <td>10288</td>\n",
       "      <td>0</td>\n",
       "    </tr>\n",
       "  </tbody>\n",
       "</table>\n",
       "</div>"
      ],
      "text/plain": [
       "                          image_name patient_id target\n",
       "0   10278_idx5_x1451_y601_class0.png      10278      0\n",
       "1   10285_idx5_x451_y2451_class0.png      10285      0\n",
       "2    15513_idx5_x101_y451_class0.png      15513      0\n",
       "3    9254_idx5_x2951_y901_class1.png       9254      1\n",
       "4    16552_idx5_x651_y901_class0.png      16552      0\n",
       "5   9322_idx5_x2951_y1501_class1.png       9322      1\n",
       "6  10269_idx5_x2151_y2051_class0.png      10269      0\n",
       "7   13689_idx5_x851_y1651_class0.png      13689      0\n",
       "8   9076_idx5_x2151_y1751_class1.png       9076      1\n",
       "9  10288_idx5_x2551_y1001_class0.png      10288      0"
      ]
     },
     "execution_count": 47,
     "metadata": {},
     "output_type": "execute_result"
    }
   ],
   "source": [
    "#each image_name has the form: 10278_idx5_x1451_y601_class0.png (patient_id, position_xy, class)\n",
    "\n",
    "def extract_patient_id(x):\n",
    "    # split into a list\n",
    "    a = x.split('_')\n",
    "    # the id is the first index in the list\n",
    "    patient_id = a[0]\n",
    "    \n",
    "    return patient_id\n",
    "\n",
    "def extract_target(x):\n",
    "    # split into a list\n",
    "    a = x.split('_')\n",
    "    # the target is part of the string in index 4\n",
    "    b = a[4]\n",
    "    # the ytarget i.e. 1 or 2 is the 5th index of the string --> class1\n",
    "    target = b[5]\n",
    "    \n",
    "    return target\n",
    "\n",
    "# create a new column called 'patient_id'\n",
    "df_data['patient_id'] = df_data['image_name'].apply(extract_patient_id)\n",
    "# create a new column called 'target'\n",
    "df_data['target'] = df_data['image_name'].apply(extract_target)\n",
    "\n",
    "df_data.head(10)"
   ]
  },
  {
   "cell_type": "code",
   "execution_count": 48,
   "metadata": {},
   "outputs": [
    {
     "data": {
      "text/plain": [
       "(277524, 3)"
      ]
     },
     "execution_count": 48,
     "metadata": {},
     "output_type": "execute_result"
    }
   ],
   "source": [
    "df_data.shape"
   ]
  },
  {
   "cell_type": "markdown",
   "metadata": {},
   "source": [
    "## Visualization: Display a random sample of train images by class\n",
    "\n",
    "What can we already learn about the data by looking at examples. Additionally: add statistics??? TODO"
   ]
  },
  {
   "cell_type": "code",
   "execution_count": 117,
   "metadata": {},
   "outputs": [
    {
     "data": {
      "image/png": "[encoded data removed]",
      "text/plain": [
       "<Figure size 720x720 with 8 Axes>"
      ]
     },
     "metadata": {
      "needs_background": "light"
     },
     "output_type": "display_data"
    }
   ],
   "source": [
    "#select 4 images from each class for visualization purposes:\n",
    "samp_size = 4\n",
    "sample_class0 = df_data[df_data['target'] == '0'][:4]\n",
    "sample_class1 = df_data[df_data['target'] == '1'][:4]\n",
    "\n",
    "images_path = 'data/all_data'\n",
    "mode = 'RGB' #necessary?\n",
    "images_class0 = []\n",
    "images_class1 = []\n",
    "\n",
    "for j in range(0,samp_size):\n",
    "    #for class 0 pictures:\n",
    "    img_path = images_path + '/' + sample_class0.iloc[j]['image_name']\n",
    "    image = cv2.imread(img_path)\n",
    "    images_class0.append(image)\n",
    "    #for class 1 pictures:\n",
    "    img_path_1 = images_path + '/' + sample_class1.iloc[j]['image_name']\n",
    "    image_1 = cv2.imread(img_path_1)\n",
    "    images_class1.append(image_1)\n",
    "\n",
    "#visualize the 8 sample pictures:\n",
    "all_pics = images_class0 + images_class1\n",
    "plt.figure(1, figsize=(10,10))\n",
    "n = 0\n",
    "for img in all_pics:\n",
    "    n += 1\n",
    "    plt.subplot(2,4,n)\n",
    "    plt.subplots_adjust(hspace=0.3, wspace= 0.3)\n",
    "    plt.imshow(img)\n",
    "    if(n <= 4):\n",
    "        plt.title('class 0', fontsize=20)\n",
    "    else:\n",
    "        plt.title('class 1', fontsize=20)\n",
    "\n",
    "plt.show()"
   ]
  },
  {
   "cell_type": "markdown",
   "metadata": {},
   "source": [
    "## Further data preparation? Augmentation/resize/other?\n",
    "\n",
    "Gedanken zu Augmentation:\n",
    "- Mit Augmentation kann man Bilder rotieren, spiegeln etc. und zusätzlich zu seinem Dataset dazufügen, wenn man sehr wenige Daten hat. Ich denke wir haben genug und können darauf verzichten.\n",
    "- Recherche: Oder ist Augmentation noch zu mehr gut?\n",
    "\n",
    "Gedanken zu Resize:\n",
    "- Vermutung: können wir so lassen. Sind schon sehr klein, nehmen nicht viel Speicher weg!?\n",
    "\n",
    "Noch anderes Preprocessing denkbar? Was? Warum?"
   ]
  },
  {
   "cell_type": "code",
   "execution_count": null,
   "metadata": {},
   "outputs": [],
   "source": []
  },
  {
   "cell_type": "markdown",
   "metadata": {},
   "source": [
    "## Handle the class distribution\n",
    "\n",
    "Further research required: Better to have a equally distributed class representation (both images classified as 0 or 1 should have the same amount or is it fine that there are more pictures without cancer than there are pictures with cancer?"
   ]
  },
  {
   "cell_type": "code",
   "execution_count": 62,
   "metadata": {},
   "outputs": [
    {
     "data": {
      "text/plain": [
       "0    198738\n",
       "1     78786\n",
       "Name: target, dtype: int64"
      ]
     },
     "execution_count": 62,
     "metadata": {},
     "output_type": "execute_result"
    }
   ],
   "source": [
    "# What is the current class distribution?\n",
    "\n",
    "df_data['target'].value_counts()"
   ]
  },
  {
   "cell_type": "markdown",
   "metadata": {},
   "source": [
    "### One approach: downsampling class 0, so both classes contain the same amount of images\n",
    "\n",
    "Mein bisheriger Gedanke: Erstmal Training mit einer Gleichverteilung versuchen, wie jetzt in den folgenden Zellen ausgeführt. Und nochmal nachlesen, ob das so sinnvoll ist, oder wir doch die gesamten Bilder nutzen können, obwohl dann Klasse 0 stark überproportional vertreten ist"
   ]
  },
  {
   "cell_type": "code",
   "execution_count": 81,
   "metadata": {},
   "outputs": [
    {
     "name": "stdout",
     "output_type": "stream",
     "text": [
      "Our overall SAMPLE SIZE for our training data for each class will be: 78786\n"
     ]
    }
   ],
   "source": [
    "#choose the number of pictures with the less represented class (in our case class 1) to be the SAMPLE SIZE \n",
    "nr_class0 = len(df_data[df_data['target'] == '0'])\n",
    "nr_class1 = len(df_data[df_data['target'] == '1'])\n",
    "\n",
    "SAMPLE_SIZE = nr_class0 if (nr_class0 < nr_class1) else nr_class1\n",
    "\n",
    "print('Our overall SAMPLE SIZE for our training data for each class will be: ' + str(SAMPLE_SIZE))"
   ]
  },
  {
   "cell_type": "code",
   "execution_count": 83,
   "metadata": {},
   "outputs": [
    {
     "name": "stdout",
     "output_type": "stream",
     "text": [
      "Our new class distribution: \n"
     ]
    },
    {
     "data": {
      "text/plain": [
       "0    78786\n",
       "1    78786\n",
       "Name: target, dtype: int64"
      ]
     },
     "execution_count": 83,
     "metadata": {},
     "output_type": "execute_result"
    }
   ],
   "source": [
    "# take a sample of the majority class 0 (total = 198738)\n",
    "df_0 = df_data[df_data['target'] == '0'].sample(SAMPLE_SIZE, random_state=101)\n",
    "# take a sample of class 1 (total = 78786)\n",
    "df_1 = df_data[df_data['target'] == '1'].sample(SAMPLE_SIZE, random_state=101)\n",
    "\n",
    "# concat the two dataframes\n",
    "df_data = pd.concat([df_0, df_1], axis=0).reset_index(drop=True)\n",
    "\n",
    "# Check the new class distribution\n",
    "print('Our new class distribution: ')\n",
    "df_data['target'].value_counts()"
   ]
  },
  {
   "cell_type": "markdown",
   "metadata": {},
   "source": [
    "## Dividing the data into sets for training and testing (and validation??)"
   ]
  },
  {
   "cell_type": "code",
   "execution_count": 86,
   "metadata": {},
   "outputs": [
    {
     "name": "stdout",
     "output_type": "stream",
     "text": [
      "(141814, 3)\n",
      "(15758, 3)\n"
     ]
    }
   ],
   "source": [
    "# using the train-test-split method from sklearn for splitting the data\n",
    "# TODO: ok this way? or splitting another set for validation or something?\n",
    "# stratify=y creates a balanced validation set.\n",
    "y = df_data['target']\n",
    "\n",
    "df_train, df_val = train_test_split(df_data, test_size=0.10, random_state=101, stratify=y)\n",
    "\n",
    "print(df_train.shape)\n",
    "print(df_val.shape)"
   ]
  },
  {
   "cell_type": "code",
   "execution_count": 87,
   "metadata": {},
   "outputs": [
    {
     "data": {
      "text/plain": [
       "0    70907\n",
       "1    70907\n",
       "Name: target, dtype: int64"
      ]
     },
     "execution_count": 87,
     "metadata": {},
     "output_type": "execute_result"
    }
   ],
   "source": [
    "#class distribution in the new training set\n",
    "df_train['target'].value_counts()"
   ]
  },
  {
   "cell_type": "code",
   "execution_count": 88,
   "metadata": {},
   "outputs": [
    {
     "data": {
      "text/plain": [
       "0    7879\n",
       "1    7879\n",
       "Name: target, dtype: int64"
      ]
     },
     "execution_count": 88,
     "metadata": {},
     "output_type": "execute_result"
    }
   ],
   "source": [
    "#class distribution in the new test (or validation??) set\n",
    "df_val['target'].value_counts()"
   ]
  },
  {
   "cell_type": "markdown",
   "metadata": {},
   "source": [
    "## Saving data to disk so we can load it later into another notebook\n",
    "\n",
    "Sollten wir die Daten definitiv neu abspeichern, wenn ja in welchem Format? Oder können wir einfach bei jedem Neuladen des Notebooks nur die Zellen mit der Kreiierung des panda dataframes wieder ausführen und da weitermachen? "
   ]
  },
  {
   "cell_type": "code",
   "execution_count": null,
   "metadata": {},
   "outputs": [],
   "source": []
  }
 ],
 "metadata": {
  "kernelspec": {
   "display_name": "BreastCancer",
   "language": "python",
   "name": "breastcancer"
  },
  "language_info": {
   "codemirror_mode": {
    "name": "ipython",
    "version": 3
   },
   "file_extension": ".py",
   "mimetype": "text/x-python",
   "name": "python",
   "nbconvert_exporter": "python",
   "pygments_lexer": "ipython3",
   "version": "3.6.9"
  }
 },
 "nbformat": 4,
 "nbformat_minor": 2
}

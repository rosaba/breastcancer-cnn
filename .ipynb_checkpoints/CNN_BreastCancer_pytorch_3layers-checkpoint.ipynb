{
 "cells": [
  {
   "cell_type": "markdown",
   "metadata": {},
   "source": [
    "# ConV Network: Setup, training and evaluation"
   ]
  },
  {
   "cell_type": "markdown",
   "metadata": {},
   "source": [
    "## Imports"
   ]
  },
  {
   "cell_type": "code",
   "execution_count": 61,
   "metadata": {},
   "outputs": [],
   "source": [
    "import torch # version 1.3.1\n",
    "from torch.utils.data import Dataset, DataLoader\n",
    "import torch.nn as nn\n",
    "import torch.optim as optim\n",
    "from torch.optim import lr_scheduler\n",
    "from torch.optim.lr_scheduler import ReduceLROnPlateau, StepLR, CyclicLR\n",
    "import torch.nn.functional as F\n",
    "\n",
    "import torchvision\n",
    "from torchvision import datasets, models, transforms\n",
    "import torch.nn.functional as F\n",
    "\n",
    "import os\n",
    "from os import listdir\n",
    "from glob import glob\n",
    "from datetime import datetime\n",
    "\n",
    "import cv2\n",
    "\n",
    "import matplotlib.pylab as plt\n",
    "\n",
    "# data augmentation\n",
    "from PIL import Image\n",
    "from PIL import ImageOps\n",
    "from PIL import ImageFilter\n",
    "\n",
    "# Split arrays or matrices into random train and test subsets\n",
    "from sklearn.model_selection import train_test_split\n",
    "\n",
    "# remove if not needed because augmentation is already applied \n",
    "from sklearn.utils.class_weight import compute_class_weight\n",
    "from sklearn.metrics import confusion_matrix\n",
    "\n",
    "import re\n",
    "\n",
    "import random\n",
    "\n",
    "import time\n",
    "import copy\n",
    "\n",
    "# INSTALL tqdm for jupyter lab:\n",
    "# 1. pip install tqdm==4.36.1\n",
    "# 2. pip install ipywidgets\n",
    "# 3. jupyter nbextension enable --py widgetsnbextension\n",
    "# 4. jupyter labextension install @jupyter-widgets/jupyterlab-manager (installed nodejs and npm needed)\n",
    "from tqdm import tqdm_notebook as tqdm\n",
    "\n",
    "#visualization at the end:\n",
    "from bokeh.plotting import figure\n",
    "from bokeh.io import show\n",
    "from bokeh.models import LinearAxis, Range1d\n",
    "\n",
    "import pandas as pd\n",
    "\n",
    "import numpy as np\n",
    "\n",
    "import seaborn as sns\n",
    "sns.set()"
   ]
  },
  {
   "cell_type": "markdown",
   "metadata": {},
   "source": [
    "## Load necessary data from file system"
   ]
  },
  {
   "cell_type": "code",
   "execution_count": 78,
   "metadata": {},
   "outputs": [],
   "source": [
    "loaded_train_df = pd.read_json(\"dataframes/final_train_df.json\")\n",
    "loaded_val_df = pd.read_json(\"dataframes/val_df.json\")\n",
    "loaded_test_df = pd.read_json(\"dataframes/test_df.json\")"
   ]
  },
  {
   "cell_type": "code",
   "execution_count": 79,
   "metadata": {},
   "outputs": [
    {
     "data": {
      "text/html": [
       "<div>\n",
       "<style scoped>\n",
       "    .dataframe tbody tr th:only-of-type {\n",
       "        vertical-align: middle;\n",
       "    }\n",
       "\n",
       "    .dataframe tbody tr th {\n",
       "        vertical-align: top;\n",
       "    }\n",
       "\n",
       "    .dataframe thead th {\n",
       "        text-align: right;\n",
       "    }\n",
       "</style>\n",
       "<table border=\"1\" class=\"dataframe\">\n",
       "  <thead>\n",
       "    <tr style=\"text-align: right;\">\n",
       "      <th></th>\n",
       "      <th>patient_id</th>\n",
       "      <th>image_path</th>\n",
       "      <th>label</th>\n",
       "      <th>x</th>\n",
       "      <th>y</th>\n",
       "    </tr>\n",
       "  </thead>\n",
       "  <tbody>\n",
       "    <tr>\n",
       "      <th>0</th>\n",
       "      <td>10258</td>\n",
       "      <td>data/breast-histopathology-images/IDC_regular_...</td>\n",
       "      <td>0</td>\n",
       "      <td>801</td>\n",
       "      <td>1151</td>\n",
       "    </tr>\n",
       "    <tr>\n",
       "      <th>1</th>\n",
       "      <td>10258</td>\n",
       "      <td>data/breast-histopathology-images/IDC_regular_...</td>\n",
       "      <td>0</td>\n",
       "      <td>801</td>\n",
       "      <td>951</td>\n",
       "    </tr>\n",
       "    <tr>\n",
       "      <th>2</th>\n",
       "      <td>10258</td>\n",
       "      <td>data/breast-histopathology-images/IDC_regular_...</td>\n",
       "      <td>0</td>\n",
       "      <td>851</td>\n",
       "      <td>651</td>\n",
       "    </tr>\n",
       "    <tr>\n",
       "      <th>3</th>\n",
       "      <td>10258</td>\n",
       "      <td>data/breast-histopathology-images/IDC_regular_...</td>\n",
       "      <td>0</td>\n",
       "      <td>601</td>\n",
       "      <td>951</td>\n",
       "    </tr>\n",
       "    <tr>\n",
       "      <th>4</th>\n",
       "      <td>10258</td>\n",
       "      <td>data/breast-histopathology-images/IDC_regular_...</td>\n",
       "      <td>0</td>\n",
       "      <td>1001</td>\n",
       "      <td>851</td>\n",
       "    </tr>\n",
       "    <tr>\n",
       "      <th>...</th>\n",
       "      <td>...</td>\n",
       "      <td>...</td>\n",
       "      <td>...</td>\n",
       "      <td>...</td>\n",
       "      <td>...</td>\n",
       "    </tr>\n",
       "    <tr>\n",
       "      <th>280827</th>\n",
       "      <td>9173</td>\n",
       "      <td>data/train_class1_augmented/9173_idx5_x2301_y1...</td>\n",
       "      <td>1</td>\n",
       "      <td>2301</td>\n",
       "      <td>1601</td>\n",
       "    </tr>\n",
       "    <tr>\n",
       "      <th>280828</th>\n",
       "      <td>13693</td>\n",
       "      <td>data/train_class1_augmented/13693_idx5_x551_y1...</td>\n",
       "      <td>1</td>\n",
       "      <td>551</td>\n",
       "      <td>1551</td>\n",
       "    </tr>\n",
       "    <tr>\n",
       "      <th>280829</th>\n",
       "      <td>13402</td>\n",
       "      <td>data/train_class1_augmented/13402_idx5_x1451_y...</td>\n",
       "      <td>1</td>\n",
       "      <td>1451</td>\n",
       "      <td>1001</td>\n",
       "    </tr>\n",
       "    <tr>\n",
       "      <th>280830</th>\n",
       "      <td>16165</td>\n",
       "      <td>data/train_class1_augmented/16165_idx5_x1401_y...</td>\n",
       "      <td>1</td>\n",
       "      <td>1401</td>\n",
       "      <td>1501</td>\n",
       "    </tr>\n",
       "    <tr>\n",
       "      <th>280831</th>\n",
       "      <td>14157</td>\n",
       "      <td>data/train_class1_augmented/14157_idx5_x1451_y...</td>\n",
       "      <td>1</td>\n",
       "      <td>1451</td>\n",
       "      <td>1251</td>\n",
       "    </tr>\n",
       "  </tbody>\n",
       "</table>\n",
       "<p>280832 rows × 5 columns</p>\n",
       "</div>"
      ],
      "text/plain": [
       "        patient_id                                         image_path  label  \\\n",
       "0            10258  data/breast-histopathology-images/IDC_regular_...      0   \n",
       "1            10258  data/breast-histopathology-images/IDC_regular_...      0   \n",
       "2            10258  data/breast-histopathology-images/IDC_regular_...      0   \n",
       "3            10258  data/breast-histopathology-images/IDC_regular_...      0   \n",
       "4            10258  data/breast-histopathology-images/IDC_regular_...      0   \n",
       "...            ...                                                ...    ...   \n",
       "280827        9173  data/train_class1_augmented/9173_idx5_x2301_y1...      1   \n",
       "280828       13693  data/train_class1_augmented/13693_idx5_x551_y1...      1   \n",
       "280829       13402  data/train_class1_augmented/13402_idx5_x1451_y...      1   \n",
       "280830       16165  data/train_class1_augmented/16165_idx5_x1401_y...      1   \n",
       "280831       14157  data/train_class1_augmented/14157_idx5_x1451_y...      1   \n",
       "\n",
       "           x     y  \n",
       "0        801  1151  \n",
       "1        801   951  \n",
       "2        851   651  \n",
       "3        601   951  \n",
       "4       1001   851  \n",
       "...      ...   ...  \n",
       "280827  2301  1601  \n",
       "280828   551  1551  \n",
       "280829  1451  1001  \n",
       "280830  1401  1501  \n",
       "280831  1451  1251  \n",
       "\n",
       "[280832 rows x 5 columns]"
      ]
     },
     "execution_count": 79,
     "metadata": {},
     "output_type": "execute_result"
    }
   ],
   "source": [
    "#show example file:\n",
    "loaded_train_df"
   ]
  },
  {
   "cell_type": "code",
   "execution_count": 30,
   "metadata": {},
   "outputs": [
    {
     "data": {
      "text/html": [
       "<div>\n",
       "<style scoped>\n",
       "    .dataframe tbody tr th:only-of-type {\n",
       "        vertical-align: middle;\n",
       "    }\n",
       "\n",
       "    .dataframe tbody tr th {\n",
       "        vertical-align: top;\n",
       "    }\n",
       "\n",
       "    .dataframe thead th {\n",
       "        text-align: right;\n",
       "    }\n",
       "</style>\n",
       "<table border=\"1\" class=\"dataframe\">\n",
       "  <thead>\n",
       "    <tr style=\"text-align: right;\">\n",
       "      <th></th>\n",
       "      <th>patient_id</th>\n",
       "      <th>image_path</th>\n",
       "      <th>label</th>\n",
       "      <th>x</th>\n",
       "      <th>y</th>\n",
       "    </tr>\n",
       "  </thead>\n",
       "  <tbody>\n",
       "    <tr>\n",
       "      <th>10430</th>\n",
       "      <td>9178</td>\n",
       "      <td>data/breast-histopathology-images/IDC_regular_...</td>\n",
       "      <td>0</td>\n",
       "      <td>1451</td>\n",
       "      <td>1551</td>\n",
       "    </tr>\n",
       "    <tr>\n",
       "      <th>10431</th>\n",
       "      <td>9178</td>\n",
       "      <td>data/breast-histopathology-images/IDC_regular_...</td>\n",
       "      <td>0</td>\n",
       "      <td>751</td>\n",
       "      <td>1051</td>\n",
       "    </tr>\n",
       "    <tr>\n",
       "      <th>10432</th>\n",
       "      <td>9178</td>\n",
       "      <td>data/breast-histopathology-images/IDC_regular_...</td>\n",
       "      <td>0</td>\n",
       "      <td>801</td>\n",
       "      <td>1301</td>\n",
       "    </tr>\n",
       "    <tr>\n",
       "      <th>10433</th>\n",
       "      <td>9178</td>\n",
       "      <td>data/breast-histopathology-images/IDC_regular_...</td>\n",
       "      <td>0</td>\n",
       "      <td>1551</td>\n",
       "      <td>451</td>\n",
       "    </tr>\n",
       "    <tr>\n",
       "      <th>10434</th>\n",
       "      <td>9178</td>\n",
       "      <td>data/breast-histopathology-images/IDC_regular_...</td>\n",
       "      <td>0</td>\n",
       "      <td>1801</td>\n",
       "      <td>501</td>\n",
       "    </tr>\n",
       "    <tr>\n",
       "      <th>...</th>\n",
       "      <td>...</td>\n",
       "      <td>...</td>\n",
       "      <td>...</td>\n",
       "      <td>...</td>\n",
       "      <td>...</td>\n",
       "    </tr>\n",
       "    <tr>\n",
       "      <th>17196</th>\n",
       "      <td>10259</td>\n",
       "      <td>data/breast-histopathology-images/IDC_regular_...</td>\n",
       "      <td>0</td>\n",
       "      <td>1301</td>\n",
       "      <td>401</td>\n",
       "    </tr>\n",
       "    <tr>\n",
       "      <th>17197</th>\n",
       "      <td>10259</td>\n",
       "      <td>data/breast-histopathology-images/IDC_regular_...</td>\n",
       "      <td>0</td>\n",
       "      <td>251</td>\n",
       "      <td>901</td>\n",
       "    </tr>\n",
       "    <tr>\n",
       "      <th>17198</th>\n",
       "      <td>10259</td>\n",
       "      <td>data/breast-histopathology-images/IDC_regular_...</td>\n",
       "      <td>0</td>\n",
       "      <td>2651</td>\n",
       "      <td>1601</td>\n",
       "    </tr>\n",
       "    <tr>\n",
       "      <th>17199</th>\n",
       "      <td>10259</td>\n",
       "      <td>data/breast-histopathology-images/IDC_regular_...</td>\n",
       "      <td>0</td>\n",
       "      <td>1401</td>\n",
       "      <td>501</td>\n",
       "    </tr>\n",
       "    <tr>\n",
       "      <th>17200</th>\n",
       "      <td>10259</td>\n",
       "      <td>data/breast-histopathology-images/IDC_regular_...</td>\n",
       "      <td>0</td>\n",
       "      <td>2501</td>\n",
       "      <td>551</td>\n",
       "    </tr>\n",
       "  </tbody>\n",
       "</table>\n",
       "<p>3000 rows × 5 columns</p>\n",
       "</div>"
      ],
      "text/plain": [
       "       patient_id                                         image_path  label  \\\n",
       "10430        9178  data/breast-histopathology-images/IDC_regular_...      0   \n",
       "10431        9178  data/breast-histopathology-images/IDC_regular_...      0   \n",
       "10432        9178  data/breast-histopathology-images/IDC_regular_...      0   \n",
       "10433        9178  data/breast-histopathology-images/IDC_regular_...      0   \n",
       "10434        9178  data/breast-histopathology-images/IDC_regular_...      0   \n",
       "...           ...                                                ...    ...   \n",
       "17196       10259  data/breast-histopathology-images/IDC_regular_...      0   \n",
       "17197       10259  data/breast-histopathology-images/IDC_regular_...      0   \n",
       "17198       10259  data/breast-histopathology-images/IDC_regular_...      0   \n",
       "17199       10259  data/breast-histopathology-images/IDC_regular_...      0   \n",
       "17200       10259  data/breast-histopathology-images/IDC_regular_...      0   \n",
       "\n",
       "          x     y  \n",
       "10430  1451  1551  \n",
       "10431   751  1051  \n",
       "10432   801  1301  \n",
       "10433  1551   451  \n",
       "10434  1801   501  \n",
       "...     ...   ...  \n",
       "17196  1301   401  \n",
       "17197   251   901  \n",
       "17198  2651  1601  \n",
       "17199  1401   501  \n",
       "17200  2501   551  \n",
       "\n",
       "[3000 rows x 5 columns]"
      ]
     },
     "execution_count": 30,
     "metadata": {},
     "output_type": "execute_result"
    }
   ],
   "source": [
    "#for testing reasons:\n",
    "sample_train = loaded_train_df.head(20000)\n",
    "sample_val = loaded_val_df.head(3000)\n",
    "sample_val"
   ]
  },
  {
   "cell_type": "markdown",
   "metadata": {},
   "source": [
    "## Setting up our Convolutional neural network"
   ]
  },
  {
   "cell_type": "markdown",
   "metadata": {},
   "source": [
    "### Setting hyperparameters for our model:"
   ]
  },
  {
   "cell_type": "code",
   "execution_count": 83,
   "metadata": {},
   "outputs": [],
   "source": [
    "BATCH_SIZE = 64 #bisher 32; beim model von letzter nacht 128\n",
    "NUM_CLASSES = 2\n",
    "LEARNING_RATE = 0.001 #beim model von letzter nacht 0.002\n",
    "NUM_EPOCHS = 6 #vorher 8; beim letzten mal 5"
   ]
  },
  {
   "cell_type": "code",
   "execution_count": 84,
   "metadata": {},
   "outputs": [],
   "source": [
    "#create directory for saving the model after training (only execute once):\n",
    "#os.mkdir(\"saved_models\")\n",
    "\n",
    "OUTPUT_PATH = \"saved_models/model_version_\"\n",
    "MODEL_EVAL_PATH = \"saved_models/model_eval_\""
   ]
  },
  {
   "cell_type": "code",
   "execution_count": 85,
   "metadata": {},
   "outputs": [],
   "source": [
    "# Device configuration\n",
    "device = torch.device('cuda:0' if torch.cuda.is_available() else 'cpu')"
   ]
  },
  {
   "cell_type": "markdown",
   "metadata": {},
   "source": [
    "### Transform the data\n",
    "\n",
    "This allows us to manipulate our three datasets in a specified way.\n",
    "\n",
    "In our first notebook on data preprocessing we already augmented the image patches in the training set with class 1 to boost their size. The goal was to reach an equal size for both classes 0 and 1. Here we still add another transformation on the training data (horizontal and vertical flipping plus rotation) to boost the overall size of our training data (now both classes).\n",
    "\n",
    "Further we need to convert the input data to PyTorch tensor.\n",
    "\n",
    "Additionally we add normalization. Neural networks train better when the input data is normalized, so that the data ranges from -1 to 1 or from 0 to 1. For that we need to compute the standard deviation and the mean of our training data and apply them to our train_transform. \n",
    "Note: for each input channel (here: 3) we need to apply the according mean and standard deviation.\n",
    "\n",
    "The last two transformations count also for the validation and test datasets, whereas the first mentioned transformations only account for our training data."
   ]
  },
  {
   "cell_type": "markdown",
   "metadata": {},
   "source": [
    "#### Calculate mean and standard deviation of our three datasets\n",
    "\n",
    "To hand the right parameters for mean and standard deviation to our my_transform function further down we first create three simple dataloader objects with our corresponding datasets to calculate the mean and standard deviation respectively.\n"
   ]
  },
  {
   "cell_type": "code",
   "execution_count": 33,
   "metadata": {},
   "outputs": [],
   "source": [
    "#simple transform method; only for purpose of calculation mean and standard deviation\n",
    "def transform_to_tensor():\n",
    "    train_trans = [transforms.Resize((50, 50)), transforms.ToTensor()]\n",
    "    return transforms.Compose(train_trans)"
   ]
  },
  {
   "cell_type": "code",
   "execution_count": null,
   "metadata": {},
   "outputs": [],
   "source": [
    "#create test train_loader to calculate mean and standard dev on:\n",
    "train_set = BreastCancerDataset(loaded_train_df, transform=transform_to_tensor())\n",
    "train_loader = DataLoader(train_set, batch_size=BATCH_SIZE, shuffle=False, drop_last=False)"
   ]
  },
  {
   "cell_type": "code",
   "execution_count": 34,
   "metadata": {},
   "outputs": [],
   "source": [
    "mean = 0.\n",
    "std = 0.\n",
    "nb_samples = 0.\n",
    "\n",
    "for _,data in enumerate(train_loader):\n",
    "    images = data[\"image\"].to(device)\n",
    "    batch_samples = images.size(0) \n",
    "    data = images.view(batch_samples, images.size(1), -1)\n",
    "    mean += data.mean(2).sum(0)\n",
    "    std += data.std(2).sum(0)\n",
    "    nb_samples += batch_samples\n",
    "    \n",
    "mean /= nb_samples\n",
    "std /= nb_samples"
   ]
  },
  {
   "cell_type": "code",
   "execution_count": 37,
   "metadata": {},
   "outputs": [
    {
     "name": "stdout",
     "output_type": "stream",
     "text": [
      "Those are the mean values over our three dimensions in the train dataset:\n",
      "tensor([0.7718, 0.6068, 0.7322])\n",
      "\n",
      "Those are the standard deviation values over our three dims in train dataset:\n",
      "tensor([0.0926, 0.1417, 0.1081])\n"
     ]
    }
   ],
   "source": [
    "print(\"Those are the mean values over our three dimensions in the train dataset:\")\n",
    "print(str(mean))\n",
    "print()\n",
    "print(\"Those are the standard deviation values over our three dims in train dataset:\")\n",
    "print(str(std))"
   ]
  },
  {
   "cell_type": "code",
   "execution_count": 39,
   "metadata": {},
   "outputs": [],
   "source": [
    "#copied in values calculated above so we don't have to execute the two cells more often:\n",
    "means_train = [0.7718, 0.6068, 0.7322]\n",
    "standard_dev_train = [0.0926, 0.1417, 0.1081]"
   ]
  },
  {
   "cell_type": "markdown",
   "metadata": {},
   "source": [
    "#### Calculate mean and standard deviation of our test data"
   ]
  },
  {
   "cell_type": "code",
   "execution_count": 40,
   "metadata": {},
   "outputs": [],
   "source": [
    "#create test_loader to calculate mean and standard dev for the test dataset:\n",
    "test_set = BreastCancerDataset(loaded_test_df, transform=transform_to_tensor())\n",
    "test_loader = DataLoader(test_set, batch_size=BATCH_SIZE, shuffle=False, drop_last=False)"
   ]
  },
  {
   "cell_type": "code",
   "execution_count": 41,
   "metadata": {},
   "outputs": [],
   "source": [
    "test_mean = 0.\n",
    "test_std = 0.\n",
    "test_nb_samples = 0.\n",
    "\n",
    "for _,data in enumerate(test_loader):\n",
    "    images = data[\"image\"].to(device)\n",
    "    t_batch_samples = images.size(0) \n",
    "    data = images.view(t_batch_samples, images.size(1), -1)\n",
    "    test_mean += data.mean(2).sum(0)\n",
    "    test_std += data.std(2).sum(0)\n",
    "    test_nb_samples += t_batch_samples\n",
    "    \n",
    "test_mean /= test_nb_samples\n",
    "test_std /= test_nb_samples"
   ]
  },
  {
   "cell_type": "code",
   "execution_count": 43,
   "metadata": {},
   "outputs": [
    {
     "name": "stdout",
     "output_type": "stream",
     "text": [
      "Those are the mean values over our three dimensions in the test dataset:\n",
      "tensor([0.8208, 0.6423, 0.7406])\n",
      "\n",
      "Those are the standard deviation values over our three dims in test dataset:\n",
      "tensor([0.0892, 0.1410, 0.1037])\n"
     ]
    }
   ],
   "source": [
    "print(\"Those are the mean values over our three dimensions in the test dataset:\")\n",
    "print(str(test_mean))\n",
    "print()\n",
    "print(\"Those are the standard deviation values over our three dims in test dataset:\")\n",
    "print(str(test_std))"
   ]
  },
  {
   "cell_type": "code",
   "execution_count": null,
   "metadata": {},
   "outputs": [],
   "source": [
    "#copied in values:\n",
    "#test_mean = [0.8208, 0.6423, 0.7406]\n",
    "#test_std = [0.0892, 0.1410, 0.1037]"
   ]
  },
  {
   "cell_type": "markdown",
   "metadata": {},
   "source": [
    "#### Calculate mean and standard deviation of our validation data"
   ]
  },
  {
   "cell_type": "code",
   "execution_count": 44,
   "metadata": {},
   "outputs": [],
   "source": [
    "#create val_loader to calculate mean and standard dev for the validation dataset:\n",
    "val_set = BreastCancerDataset(loaded_val_df, transform=transform_to_tensor())\n",
    "val_loader = DataLoader(val_set, batch_size=BATCH_SIZE, shuffle=False, drop_last=False)"
   ]
  },
  {
   "cell_type": "code",
   "execution_count": 45,
   "metadata": {},
   "outputs": [],
   "source": [
    "val_mean = 0.\n",
    "val_std = 0.\n",
    "val_nb_samples = 0.\n",
    "\n",
    "for _,data in enumerate(val_loader):\n",
    "    images = data[\"image\"].to(device)\n",
    "    v_batch_samples = images.size(0) \n",
    "    data = images.view(v_batch_samples, images.size(1), -1)\n",
    "    val_mean += data.mean(2).sum(0)\n",
    "    val_std += data.std(2).sum(0)\n",
    "    val_nb_samples += v_batch_samples\n",
    "    \n",
    "val_mean /= val_nb_samples\n",
    "val_std /= val_nb_samples"
   ]
  },
  {
   "cell_type": "code",
   "execution_count": 46,
   "metadata": {},
   "outputs": [
    {
     "name": "stdout",
     "output_type": "stream",
     "text": [
      "Those are the mean values over our three dimensions in the validation dataset:\n",
      "tensor([0.8031, 0.6202, 0.7270])\n",
      "\n",
      "Those are the standard deviation values over our three dims in validation dataset:\n",
      "tensor([0.0938, 0.1420, 0.1049])\n"
     ]
    }
   ],
   "source": [
    "print(\"Those are the mean values over our three dimensions in the validation dataset:\")\n",
    "print(str(val_mean))\n",
    "print()\n",
    "print(\"Those are the standard deviation values over our three dims in validation dataset:\")\n",
    "print(str(val_std))"
   ]
  },
  {
   "cell_type": "code",
   "execution_count": null,
   "metadata": {},
   "outputs": [],
   "source": [
    "#copied in values:\n",
    "#val_mean = [0.8031, 0.6202, 0.7270]\n",
    "#val_std = [0.0938, 0.1420, 0.1049]"
   ]
  },
  {
   "cell_type": "markdown",
   "metadata": {},
   "source": [
    "#### The following transform method will be used to manipulate our data sets for training and evaluation\n",
    "\n",
    "Here we add the calculated values for mean and standard deviation for purpose of normalization from above.\n",
    "For now we take the same values also for the validation and test data set, as we assume them to be very similar."
   ]
  },
  {
   "cell_type": "code",
   "execution_count": 86,
   "metadata": {},
   "outputs": [],
   "source": [
    "#transforms to apply to our data:\n",
    "def my_transform(key=\"train_transform\"):\n",
    "    #boost class 1 in training set:\n",
    "    train_transform = [transforms.Resize((50, 50)),\n",
    "                    transforms.RandomHorizontalFlip(),\n",
    "                    transforms.RandomVerticalFlip(),\n",
    "                    transforms.RandomRotation(90), \n",
    "                    transforms.ToTensor(),\n",
    "                    transforms.Normalize(mean=[0.7718, 0.6068, 0.7322],std=[0.0926, 0.1417, 0.1081])]\n",
    "    #change values:\n",
    "    val_transform = [transforms.Resize((50, 50)),\n",
    "                    transforms.ToTensor(),\n",
    "                    transforms.Normalize(mean=[0.8031, 0.6202, 0.7270],std=[0.0938, 0.1420, 0.1049])]\n",
    "    \n",
    "    test_transform = [transforms.Resize((50, 50)),\n",
    "                    transforms.ToTensor(),\n",
    "                    transforms.Normalize(mean=[0.8208, 0.6423, 0.7406],std=[0.0892, 0.1410, 0.1037])]\n",
    "        \n",
    "    data_transforms = {'train_transform': transforms.Compose(train_transform),\n",
    "                       'val_transform': transforms.Compose(val_transform),\n",
    "                       'test_transform': transforms.Compose(test_transform)}\n",
    "    return data_transforms[key]"
   ]
  },
  {
   "cell_type": "markdown",
   "metadata": {},
   "source": [
    "### Here we create a class for our various datasets\n",
    "\n",
    "This class will be used to create our various datasets and subsequently be passed to our data loader."
   ]
  },
  {
   "cell_type": "code",
   "execution_count": 87,
   "metadata": {},
   "outputs": [],
   "source": [
    "class BreastCancerDataset(Dataset):\n",
    "    \n",
    "    def __init__(self, df, transform=None):\n",
    "        self.states = df\n",
    "        self.transform=transform\n",
    "      \n",
    "    def __len__(self):\n",
    "        return len(self.states)\n",
    "        \n",
    "    def __getitem__(self, idx):\n",
    "        patient_id = self.states.patient_id.values[idx]\n",
    "        x_coord = self.states.x.values[idx]\n",
    "        y_coord = self.states.y.values[idx]\n",
    "        image_path = self.states.image_path.values[idx] \n",
    "        image = Image.open(image_path)\n",
    "        image = image.convert('RGB') # try to convert to YUV instead of RGB later\n",
    "        \n",
    "        if self.transform:\n",
    "            image = self.transform(image)\n",
    "         \n",
    "        label = np.int(self.states.label.values[idx])\n",
    "        return {\"image\": image,\n",
    "                \"label\": label,\n",
    "                \"patient_id\": patient_id,\n",
    "                \"x\": x_coord,\n",
    "                \"y\": y_coord}"
   ]
  },
  {
   "cell_type": "markdown",
   "metadata": {},
   "source": [
    "### Putting our data sets (training, validation, testing) into a dataloader object\n",
    "\n",
    "Here we create our datasets and apply the transformations defined above in our my_transform method.\n",
    "After we befill our dataloader with the datasets.\n",
    "\n",
    "The data loader object in PyTorch provides a number of features which are useful for us in consuming training data.\n",
    "We can automatically shuffle the data. Further we can easily batch the data according to our defined BATCH_SIZE. PyTorch also enables us to load the data in parallel using multiprocessing. Data consumption becomes a lot more efficient this way.\n",
    "\n",
    "As we say later on in the training loop the PyTorch data loader object can be used as an iterator, i.e. use \"enumerate\" to extract the data."
   ]
  },
  {
   "cell_type": "code",
   "execution_count": 88,
   "metadata": {},
   "outputs": [],
   "source": [
    "train_dataset = BreastCancerDataset(loaded_train_df, transform=my_transform(key=\"train_transform\"))\n",
    "val_dataset = BreastCancerDataset(loaded_val_df, transform=my_transform(key=\"val_transform\"))\n",
    "test_dataset = BreastCancerDataset(loaded_test_df, transform=my_transform(key=\"test_transform\"))"
   ]
  },
  {
   "cell_type": "code",
   "execution_count": 89,
   "metadata": {},
   "outputs": [],
   "source": [
    "image_datasets = {\"train\": train_dataset, \"val\": val_dataset, \"test\": test_dataset}\n",
    "dataset_sizes = {x: len(image_datasets[x]) for x in [\"train\", \"val\", \"test\"]}"
   ]
  },
  {
   "cell_type": "code",
   "execution_count": 90,
   "metadata": {},
   "outputs": [
    {
     "data": {
      "text/plain": [
       "{'train': 280832, 'val': 37886, 'test': 43313}"
      ]
     },
     "execution_count": 90,
     "metadata": {},
     "output_type": "execute_result"
    }
   ],
   "source": [
    "#check the size of our three different data sets:\n",
    "dataset_sizes"
   ]
  },
  {
   "cell_type": "code",
   "execution_count": 91,
   "metadata": {},
   "outputs": [],
   "source": [
    "train_dataloader = DataLoader(train_dataset, batch_size=BATCH_SIZE, shuffle=True, drop_last=True)\n",
    "val_dataloader = DataLoader(val_dataset, batch_size=BATCH_SIZE, shuffle=False, drop_last=True)\n",
    "test_dataloader = DataLoader(test_dataset, batch_size=BATCH_SIZE, shuffle=False, drop_last=False)"
   ]
  },
  {
   "cell_type": "code",
   "execution_count": 92,
   "metadata": {},
   "outputs": [],
   "source": [
    "dataloaders = {\"train\": train_dataloader, \"val\": val_dataloader, \"test\": test_dataloader}"
   ]
  },
  {
   "cell_type": "code",
   "execution_count": 93,
   "metadata": {},
   "outputs": [
    {
     "name": "stdout",
     "output_type": "stream",
     "text": [
      "Our training dataset has the size: 280832\n",
      "Divided by our batch_size of 64 this leads to 4388 iterations for each epoch while training.\n",
      "\n",
      "Our validation data set has the size: 37886\n",
      "Divided by our batch_size of 64 this leads to 591 iterations for each epoch for validation.\n",
      "\n",
      "Our test data set has the size: 43313\n",
      "Divided by our batch_size of 64 this leads to 677 iterations for each epoch for testing.\n"
     ]
    }
   ],
   "source": [
    "#meaning of number stored in dataloader: nr iterations for each epoch\n",
    "print(\"Our training dataset has the size: \" + str(dataset_sizes[\"train\"]))\n",
    "print(\"Divided by our batch_size of \" + str(BATCH_SIZE) + \" this leads to \" + \n",
    "      str(len(dataloaders[\"train\"])) + \" iterations for each epoch while training.\")\n",
    "print()\n",
    "print(\"Our validation data set has the size: \" + str(dataset_sizes[\"val\"]))\n",
    "print(\"Divided by our batch_size of \" + str(BATCH_SIZE) + \" this leads to \" + \n",
    "      str(len(dataloaders[\"val\"])) + \" iterations for each epoch for validation.\")\n",
    "print()\n",
    "print(\"Our test data set has the size: \" + str(dataset_sizes[\"test\"]))\n",
    "print(\"Divided by our batch_size of \" + str(BATCH_SIZE) + \" this leads to \" + \n",
    "      str(len(dataloaders[\"test\"])) + \" iterations for each epoch for testing.\")"
   ]
  },
  {
   "cell_type": "markdown",
   "metadata": {},
   "source": [
    "### Define the architecture of our ConV neural network\n",
    "\n",
    "Here we define the architecture of our model. For that we create our own class which inherits from the nn.Module super class from PyTorch.\n",
    "For all functions that can be used from that super class see here: https://pytorch.org/docs/stable/nn.html\n",
    "\n",
    "With the nn.Sequential function we define the various layers in our network.\n",
    "Our network adapts a 3-layer CNN architecture employing 16, 32, 36.992 and 128 neurons for our first two convolutional layers and the two fully-connected layers respectively. We chose these numbers as we planned to orient our approach at the architecture chosen in this paper: 2014 ...\n",
    "Note: We had to add an additional fully-connected layer with 36.992 neurons. (Name reason TODO)\n",
    "\n",
    "\n",
    "\n",
    "\n",
    "In the paper they chose a fixed convolutional kernel of size 8x8 and a pool kernel of size 2x2.\n",
    "\n",
    "\n",
    "We used ReLu as activation functions and maxPooling at the end of our convolutional layers to down-sample our data after each convolution by reducing the effective image size.\n",
    "Further we applied dropout to minimize the chance of overfitting, improve generalization and also improve the training time. In order to let the dropout layer do its job we have to flatten the input to that layer in the forward function. For further reasoning see here: https://towardsdatascience.com/dropout-on-convolutional-layers-is-weird-5c6ab14f19b2\n",
    "\n",
    "\n",
    "### TODO's:\n",
    "- Grund warum 2. fully connected layer nötig? haben wir gerade ein 4-layer oder ein 3-layer netz?\n",
    "    (wegen anwendung von dropout und dessen reshaping/flattening nötig? irgendwie so war es ja..)\n",
    "- vielleicht genauer begründen warum wir ReLu nehmen, etc."
   ]
  },
  {
   "cell_type": "markdown",
   "metadata": {},
   "source": [
    "#### General method to calculate either the output size, the convolutional filter (kernel) size, the stride, or pooling:\n",
    "\n",
    "<math display=\"block\">\n",
    "  <msub>\n",
    "    <mi>W</mi>\n",
    "    <mrow class=\"MJX-TeXAtom-ORD\">\n",
    "      <mi>o</mi>\n",
    "      <mi>u</mi>\n",
    "      <mi>t</mi>\n",
    "    </mrow>\n",
    "  </msub>\n",
    "  <mo>=</mo>\n",
    "  <mfrac>\n",
    "    <mrow>\n",
    "      <mo stretchy=\"false\">(</mo>\n",
    "      <msub>\n",
    "        <mi>W</mi>\n",
    "        <mrow class=\"MJX-TeXAtom-ORD\">\n",
    "          <mi>i</mi>\n",
    "          <mi>n</mi>\n",
    "        </mrow>\n",
    "      </msub>\n",
    "      <mo>&#x2013;</mo>\n",
    "      <mi>F</mi>\n",
    "      <mo>+</mo>\n",
    "      <mn>2</mn>\n",
    "      <mi>P</mi>\n",
    "      <mo stretchy=\"false\">)</mo>\n",
    "    </mrow>\n",
    "      <mi>/</mi>  \n",
    "    <mi>S</mi>\n",
    "  </mfrac>\n",
    "  <mo>+</mo>\n",
    "  <mn>1</mn>\n",
    "</math>\n",
    "\n",
    "- W in = width of the input\n",
    "- F = filter or kernel size\n",
    "- P = padding\n",
    "- S = stride\n",
    "- W out = output size\n",
    "\n",
    "The same formula accounts for the calculation of the height of the input and output, as we have the case of a symmetrical image size (height = width) and we also decided to take an equal number for height and width of the filter/kernel.\n",
    "\n",
    "### TODO \n",
    "- maybe show calculation why we chose which number for kernel size/stride etc or just argument with numbers from paper as done so far"
   ]
  },
  {
   "cell_type": "code",
   "execution_count": 94,
   "metadata": {},
   "outputs": [],
   "source": [
    "class ThreeLayerCNN(nn.Module):\n",
    "    def __init__(self):\n",
    "        # ancestor constructor call\n",
    "        super(ThreeLayerCNN, self).__init__()\n",
    "        \n",
    "        # Conv Layer 1\n",
    "        self.convLayer1 = nn.Sequential( # TODO: calculate stride, padding\n",
    "            nn.Conv2d(in_channels=3, out_channels=16, kernel_size=8, stride=1),\n",
    "            nn.BatchNorm2d(16), #NEU\n",
    "            nn.ReLU(),\n",
    "            nn.MaxPool2d(kernel_size=2, stride=1))\n",
    "        \n",
    "        # Conv Layer 2\n",
    "        self.convLayer2 = nn.Sequential(\n",
    "            nn.Conv2d(in_channels=16, out_channels=32, kernel_size=8, stride=1),\n",
    "            nn.BatchNorm2d(32), #NEU\n",
    "            nn.ReLU(),\n",
    "            nn.MaxPool2d(kernel_size=2, stride=1))\n",
    "            \n",
    "        # Dropout: avoid overfitting. only for training\n",
    "        self.drop_out = nn.Dropout()        \n",
    "        \n",
    "        #Fully Connected Layer\n",
    "      #  self.fc1 = nn.Linear(128, 2) #      32, 34, 34 \n",
    "        self.fc1 = nn.Linear(32*34*34, 128)\n",
    "       # self.fc1 = nn.Linear(32*1*1, 128) # 32,1,1\n",
    "        self.fc2 = nn.Linear(128, 2)\n",
    "    \n",
    "    \n",
    "    def forward(self, x):\n",
    "        out = self.convLayer1(x)\n",
    "        #print(\"after conv1: \" + str(out.shape))\n",
    "        out = self.convLayer2(out)\n",
    "        #print(\"after conv2: \" + str(out.shape)) # after conv2: torch.Size([32, 32, 34, 34])\n",
    "        # what does reshape do? -> flatten. why befor drop_out?\n",
    "       # out = out.reshape(out.size(0), -1) \n",
    "       # out = out.view(-1, 128)\n",
    "        out = out.view(-1, 32*34*34)\n",
    "       # out = out.view(-1, 32*1*1)\n",
    "        out = self.drop_out(out)\n",
    "        #print(\"after dropout: \" + str(out.shape))\n",
    "        out = self.fc1(out)\n",
    "        #print(\"after fc1: \" + str(out.shape))\n",
    "        out = self.fc2(out)\n",
    "        #print(\"after fc2: \" + str(out.shape))\n",
    "        \n",
    "        return out      "
   ]
  },
  {
   "cell_type": "markdown",
   "metadata": {},
   "source": [
    "### Define our model"
   ]
  },
  {
   "cell_type": "code",
   "execution_count": 95,
   "metadata": {},
   "outputs": [],
   "source": [
    "model = ThreeLayerCNN().to(device)"
   ]
  },
  {
   "cell_type": "code",
   "execution_count": 96,
   "metadata": {},
   "outputs": [
    {
     "name": "stdout",
     "output_type": "stream",
     "text": [
      "ThreeLayerCNN(\n",
      "  (convLayer1): Sequential(\n",
      "    (0): Conv2d(3, 16, kernel_size=(8, 8), stride=(1, 1))\n",
      "    (1): BatchNorm2d(16, eps=1e-05, momentum=0.1, affine=True, track_running_stats=True)\n",
      "    (2): ReLU()\n",
      "    (3): MaxPool2d(kernel_size=2, stride=1, padding=0, dilation=1, ceil_mode=False)\n",
      "  )\n",
      "  (convLayer2): Sequential(\n",
      "    (0): Conv2d(16, 32, kernel_size=(8, 8), stride=(1, 1))\n",
      "    (1): BatchNorm2d(32, eps=1e-05, momentum=0.1, affine=True, track_running_stats=True)\n",
      "    (2): ReLU()\n",
      "    (3): MaxPool2d(kernel_size=2, stride=1, padding=0, dilation=1, ceil_mode=False)\n",
      "  )\n",
      "  (drop_out): Dropout(p=0.5, inplace=False)\n",
      "  (fc1): Linear(in_features=36992, out_features=128, bias=True)\n",
      "  (fc2): Linear(in_features=128, out_features=2, bias=True)\n",
      ")\n"
     ]
    }
   ],
   "source": [
    "print(model)"
   ]
  },
  {
   "cell_type": "markdown",
   "metadata": {},
   "source": [
    "### Defining a loss function and an optimizer\n",
    "\n",
    "Before we train the model, we have to define our loss function and optimizer.\n",
    "We used PyTorch’s CrossEntropyLoss() function.\n",
    "\n",
    "Notice: So far we haven't defined a softmax activation for the final fully-connected classification layer above.\n",
    "The reason is that the crossentropy function from PyTorch combines both a softmax activation together with a cross entropy loss function.\n",
    "\n",
    "After that we define an adam optimizer, which we pass our parameters that we want the optimizer to train. We also supply our learning rate."
   ]
  },
  {
   "cell_type": "code",
   "execution_count": 97,
   "metadata": {},
   "outputs": [],
   "source": [
    "criterion = nn.CrossEntropyLoss()\n",
    "\n",
    "# Observe that all parameters are being optimized\n",
    "optimizer = optim.Adam(model.parameters(), lr=LEARNING_RATE)\n",
    "\n",
    "# Decay LR by a factor of 0.1 every epoch\n",
    "scheduler = lr_scheduler.StepLR(optimizer, step_size=1, gamma=0.1)"
   ]
  },
  {
   "cell_type": "markdown",
   "metadata": {},
   "source": [
    "## Model training"
   ]
  },
  {
   "cell_type": "code",
   "execution_count": 51,
   "metadata": {
    "scrolled": true
   },
   "outputs": [
    {
     "name": "stdout",
     "output_type": "stream",
     "text": [
      "Epoch [1/2], Step [100/312], Loss: 0.3119, Accuracy: 84.38%\n",
      "Epoch [1/2], Step [200/312], Loss: 0.3614, Accuracy: 82.81%\n",
      "Epoch [1/2], Step [300/312], Loss: 0.3453, Accuracy: 85.94%\n",
      "Epoch [2/2], Step [100/312], Loss: 0.3614, Accuracy: 87.50%\n",
      "Epoch [2/2], Step [200/312], Loss: 0.3334, Accuracy: 84.38%\n",
      "Epoch [2/2], Step [300/312], Loss: 0.2366, Accuracy: 90.62%\n"
     ]
    }
   ],
   "source": [
    "#number of iterations:\n",
    "total_step = len(train_dataloader) \n",
    "\n",
    "#for tracking the loss and accuracy of our model:\n",
    "loss_list = []\n",
    "acc_list = []\n",
    "\n",
    "for epoch in range(NUM_EPOCHS):\n",
    "  \n",
    "    for i, data in enumerate(train_dataloader):\n",
    "        images = data[\"image\"].to(device)\n",
    "        labels = data[\"label\"].to(device)        \n",
    "        \n",
    "        # run the forward pass\n",
    "        outputs = model(images)\n",
    "        loss = criterion(outputs, labels)\n",
    "        loss_list.append(loss.item())\n",
    "        \n",
    "        # run the backward pass (backpropagation) and perform adams optimization as specified above\n",
    "        optimizer.zero_grad() # here the gradients are zeroed before backprop starts\n",
    "        loss.backward() # calcs the gradients\n",
    "        optimizer.step() #adam optimizer training step\n",
    "        \n",
    "        #track the accuracy\n",
    "        total = labels.size(0)\n",
    "        _, predicted = torch.max(outputs.data, 1) #richtig??\n",
    "        correct = (predicted == labels).sum().item()\n",
    "        acc_list.append(correct / total)\n",
    "        \n",
    "        #print out current results after another 100 iterations are done:\n",
    "        if (i+1) % 100 == 0: # TODO: change back to 100\n",
    "            print ('Epoch [{}/{}], Step [{}/{}], Loss: {:.4f}, Accuracy: {:.2f}%' \n",
    "                   .format(epoch+1, NUM_EPOCHS, i+1, total_step, loss.item(), (correct / total) * 100))\n",
    "\n",
    "            \n",
    "#Save our model to new directory\n",
    "#to keep track of different models created we append a timestamp to the model name\n",
    "time = datetime.now(tz=None)\n",
    "timestamp = str(time.year) + \"_\" + str(time.month) + \"_\" + str(time.day) + \"_\" + str(time.hour)+ \":\" + str(time.minute)+ \":\" + str(time.second)\n",
    "\n",
    "new_model_new_dir = OUTPUT_PATH + timestamp\n",
    "os.mkdir(new_model_new_dir)\n",
    "curr_model_output_path = new_model_new_dir + \"/model_version_\" + timestamp + \".pth\"\n",
    "torch.save(model.state_dict(), curr_model_output_path)\n"
   ]
  },
  {
   "cell_type": "markdown",
   "metadata": {},
   "source": [
    "## Verbindung train und val:"
   ]
  },
  {
   "cell_type": "code",
   "execution_count": 50,
   "metadata": {},
   "outputs": [
    {
     "name": "stdout",
     "output_type": "stream",
     "text": [
      "Phase train, Epoch [1/2], Step [10/312], Loss: 0.2389, Accuracy: 92.19%\n",
      "Phase train, Epoch [1/2], Step [20/312], Loss: 0.3383, Accuracy: 89.06%\n",
      "Phase train, Epoch [1/2], Step [30/312], Loss: 0.3550, Accuracy: 87.50%\n",
      "Phase train, Epoch [1/2], Step [40/312], Loss: 0.4550, Accuracy: 85.94%\n",
      "Phase train, Epoch [1/2], Step [50/312], Loss: 0.3184, Accuracy: 90.62%\n",
      "Phase train, Epoch [1/2], Step [60/312], Loss: 0.2823, Accuracy: 87.50%\n",
      "Phase train, Epoch [1/2], Step [70/312], Loss: 0.3356, Accuracy: 84.38%\n",
      "Phase train, Epoch [1/2], Step [80/312], Loss: 0.2563, Accuracy: 92.19%\n",
      "Phase train, Epoch [1/2], Step [90/312], Loss: 0.3465, Accuracy: 89.06%\n",
      "Phase train, Epoch [1/2], Step [100/312], Loss: 0.3539, Accuracy: 82.81%\n",
      "Phase train, Epoch [1/2], Step [110/312], Loss: 0.4632, Accuracy: 75.00%\n",
      "Phase train, Epoch [1/2], Step [120/312], Loss: 0.3961, Accuracy: 82.81%\n",
      "Phase train, Epoch [1/2], Step [130/312], Loss: 0.2818, Accuracy: 87.50%\n",
      "Phase train, Epoch [1/2], Step [140/312], Loss: 0.5584, Accuracy: 76.56%\n",
      "Phase train, Epoch [1/2], Step [150/312], Loss: 0.3156, Accuracy: 87.50%\n",
      "Phase train, Epoch [1/2], Step [160/312], Loss: 0.3477, Accuracy: 82.81%\n",
      "Phase train, Epoch [1/2], Step [170/312], Loss: 0.3181, Accuracy: 85.94%\n",
      "Phase train, Epoch [1/2], Step [180/312], Loss: 0.3304, Accuracy: 92.19%\n",
      "Phase train, Epoch [1/2], Step [190/312], Loss: 0.3125, Accuracy: 87.50%\n",
      "Phase train, Epoch [1/2], Step [200/312], Loss: 0.3955, Accuracy: 84.38%\n",
      "Phase train, Epoch [1/2], Step [210/312], Loss: 0.3002, Accuracy: 89.06%\n",
      "Phase train, Epoch [1/2], Step [220/312], Loss: 0.3526, Accuracy: 85.94%\n",
      "Phase train, Epoch [1/2], Step [230/312], Loss: 0.3518, Accuracy: 85.94%\n",
      "Phase train, Epoch [1/2], Step [240/312], Loss: 0.3342, Accuracy: 85.94%\n",
      "Phase train, Epoch [1/2], Step [250/312], Loss: 0.4621, Accuracy: 79.69%\n",
      "Phase train, Epoch [1/2], Step [260/312], Loss: 0.3332, Accuracy: 82.81%\n",
      "Phase train, Epoch [1/2], Step [270/312], Loss: 0.7847, Accuracy: 71.88%\n",
      "Phase train, Epoch [1/2], Step [280/312], Loss: 0.3426, Accuracy: 84.38%\n",
      "Phase train, Epoch [1/2], Step [290/312], Loss: 0.3609, Accuracy: 79.69%\n",
      "Phase train, Epoch [1/2], Step [300/312], Loss: 0.3823, Accuracy: 82.81%\n",
      "Phase train, Epoch [1/2], Step [310/312], Loss: 0.2751, Accuracy: 90.62%\n",
      "train Epoch loss: 0.3739\n",
      "Phase val, Epoch [1/2], Step [10/312], Loss: 0.4278, Accuracy: 81.25%\n",
      "Phase val, Epoch [1/2], Step [20/312], Loss: 0.5411, Accuracy: 81.25%\n",
      "Phase val, Epoch [1/2], Step [30/312], Loss: 0.8710, Accuracy: 60.94%\n",
      "Phase val, Epoch [1/2], Step [40/312], Loss: 0.7051, Accuracy: 68.75%\n",
      "val Epoch loss: 0.5296\n",
      "Phase train, Epoch [2/2], Step [10/312], Loss: 0.3846, Accuracy: 84.38%\n",
      "Phase train, Epoch [2/2], Step [20/312], Loss: 0.3375, Accuracy: 89.06%\n",
      "Phase train, Epoch [2/2], Step [30/312], Loss: 0.2712, Accuracy: 89.06%\n",
      "Phase train, Epoch [2/2], Step [40/312], Loss: 0.3117, Accuracy: 90.62%\n",
      "Phase train, Epoch [2/2], Step [50/312], Loss: 0.2321, Accuracy: 89.06%\n",
      "Phase train, Epoch [2/2], Step [60/312], Loss: 0.3084, Accuracy: 95.31%\n",
      "Phase train, Epoch [2/2], Step [70/312], Loss: 0.4388, Accuracy: 89.06%\n",
      "Phase train, Epoch [2/2], Step [80/312], Loss: 0.3578, Accuracy: 85.94%\n",
      "Phase train, Epoch [2/2], Step [90/312], Loss: 0.2905, Accuracy: 89.06%\n",
      "Phase train, Epoch [2/2], Step [100/312], Loss: 0.2238, Accuracy: 87.50%\n",
      "Phase train, Epoch [2/2], Step [110/312], Loss: 0.2574, Accuracy: 87.50%\n",
      "Phase train, Epoch [2/2], Step [120/312], Loss: 0.5236, Accuracy: 82.81%\n",
      "Phase train, Epoch [2/2], Step [130/312], Loss: 0.3568, Accuracy: 81.25%\n",
      "Phase train, Epoch [2/2], Step [140/312], Loss: 0.3336, Accuracy: 81.25%\n",
      "Phase train, Epoch [2/2], Step [150/312], Loss: 0.2204, Accuracy: 93.75%\n",
      "Phase train, Epoch [2/2], Step [160/312], Loss: 0.2785, Accuracy: 87.50%\n",
      "Phase train, Epoch [2/2], Step [170/312], Loss: 0.3111, Accuracy: 89.06%\n",
      "Phase train, Epoch [2/2], Step [180/312], Loss: 0.3503, Accuracy: 89.06%\n",
      "Phase train, Epoch [2/2], Step [190/312], Loss: 0.4599, Accuracy: 79.69%\n",
      "Phase train, Epoch [2/2], Step [200/312], Loss: 0.5774, Accuracy: 73.44%\n",
      "Phase train, Epoch [2/2], Step [210/312], Loss: 0.2760, Accuracy: 90.62%\n",
      "Phase train, Epoch [2/2], Step [220/312], Loss: 0.3785, Accuracy: 84.38%\n",
      "Phase train, Epoch [2/2], Step [230/312], Loss: 0.4285, Accuracy: 84.38%\n",
      "Phase train, Epoch [2/2], Step [240/312], Loss: 0.5164, Accuracy: 75.00%\n",
      "Phase train, Epoch [2/2], Step [250/312], Loss: 0.3981, Accuracy: 81.25%\n",
      "Phase train, Epoch [2/2], Step [260/312], Loss: 0.2559, Accuracy: 89.06%\n",
      "Phase train, Epoch [2/2], Step [270/312], Loss: 0.5115, Accuracy: 75.00%\n",
      "Phase train, Epoch [2/2], Step [280/312], Loss: 0.3965, Accuracy: 82.81%\n",
      "Phase train, Epoch [2/2], Step [290/312], Loss: 0.3278, Accuracy: 85.94%\n",
      "Phase train, Epoch [2/2], Step [300/312], Loss: 0.2883, Accuracy: 89.06%\n",
      "Phase train, Epoch [2/2], Step [310/312], Loss: 0.3587, Accuracy: 81.25%\n",
      "train Epoch loss: 0.3673\n",
      "Phase val, Epoch [2/2], Step [10/312], Loss: 0.3284, Accuracy: 90.62%\n",
      "Phase val, Epoch [2/2], Step [20/312], Loss: 0.4018, Accuracy: 85.94%\n",
      "Phase val, Epoch [2/2], Step [30/312], Loss: 0.5768, Accuracy: 71.88%\n",
      "Phase val, Epoch [2/2], Step [40/312], Loss: 0.4031, Accuracy: 79.69%\n",
      "val Epoch loss: 0.3946\n"
     ]
    }
   ],
   "source": [
    "#dataloaders = {\"train\": train_dataloader, \"val\": val_dataloader, \"test\": test_dataloader}\n",
    "datasets_length = {\"train\": len(train_dataloader), \"val\": len(val_dataloader), \"test\": len(test_dataloader)}\n",
    "phases = [\"train\", \"val\"]\n",
    "\n",
    "#number of iterations:\n",
    "total_step = len(train_dataloader) \n",
    "\n",
    "#for tracking the loss and accuracy of our model:\n",
    "loss_list = []\n",
    "acc_list = []\n",
    "\n",
    "for epoch in range(NUM_EPOCHS):\n",
    "      for phase in phases:\n",
    "            if phase == \"train\":\n",
    "                #optimizer = scheduler(optimizer, epoch)\n",
    "                model.train()\n",
    "            else:\n",
    "                model.eval()\n",
    "            \n",
    "            running_loss = 0.\n",
    "\n",
    "            for i, data in enumerate(dataloaders[phase]):\n",
    "                images = data[\"image\"].to(device)\n",
    "                labels = data[\"label\"].to(device)        \n",
    "\n",
    "                # run the forward pass\n",
    "                outputs = model(images)\n",
    "                #calculate loss between predicted and labels:\n",
    "                loss = criterion(outputs, labels)\n",
    "                loss_list.append(loss.item())\n",
    "\n",
    "                # run the backward pass (backpropagation) and perform adams optimization as specified above\n",
    "                optimizer.zero_grad() # here the gradients are zeroed before backprop starts\n",
    "                \n",
    "                if phase == \"train\":\n",
    "                    loss.backward() # calcs the gradients\n",
    "                    optimizer.step() #adam optimizer training step\n",
    "                \n",
    "                running_loss += loss.item()\n",
    "\n",
    "                #track the accuracy\n",
    "                total = labels.size(0)\n",
    "                _, predicted = torch.max(outputs.data, 1) #richtig??\n",
    "                correct = (predicted == labels).sum().item()\n",
    "                acc_list.append(correct / total)\n",
    "\n",
    "                #print out current results after another 100 iterations are done:\n",
    "                if (i+1) % 10 == 0: # TODO: change back to 100\n",
    "                    print ('Phase {}, Epoch [{}/{}], Step [{}/{}], Loss: {:.4f}, Accuracy: {:.2f}%' \n",
    "                           .format(phase, epoch+1, NUM_EPOCHS, i+1, total_step, loss.item(), (correct / total) * 100))\n",
    "\n",
    "            #epoch loss zeug:\n",
    "            epoch_loss = running_loss / datasets_length[phase]\n",
    "            print('{} Epoch loss: {:.4f}'.format(phase, epoch_loss))\n",
    "            \n",
    "#Save our model to new directory\n",
    "#to keep track of different models created we append a timestamp to the model name\n",
    "time = datetime.now(tz=None)\n",
    "timestamp = str(time.year) + \"_\" + str(time.month) + \"_\" + str(time.day) + \"_\" + str(time.hour)+ \":\" + str(time.minute)+ \":\" + str(time.second)\n",
    "\n",
    "new_model_new_dir = OUTPUT_PATH + timestamp\n",
    "os.mkdir(new_model_new_dir)\n",
    "curr_model_output_path = new_model_new_dir + \"/model_version_\" + timestamp + \".pth\"\n",
    "torch.save(model.state_dict(), curr_model_output_path)\n"
   ]
  },
  {
   "cell_type": "markdown",
   "metadata": {},
   "source": [
    "# Finaler Versuch??"
   ]
  },
  {
   "cell_type": "code",
   "execution_count": 98,
   "metadata": {},
   "outputs": [],
   "source": [
    "## Neuer versuch nach pytorch tutorial:\n",
    "phases = [\"train\", \"val\"]\n",
    "\n",
    "\n",
    "def train_model(model, criterion, optimizer, scheduler, num_epochs=2):\n",
    "    since = time.time()\n",
    "\n",
    "    best_model_wts = copy.deepcopy(model.state_dict())\n",
    "    best_acc = 0.0\n",
    "    best_f1 = 0.0\n",
    "\n",
    "    for epoch in range(num_epochs):\n",
    "        print('Epoch {}/{}'.format(epoch + 1, num_epochs))\n",
    "        print('-' * 10)\n",
    "\n",
    "        # Each epoch has a training and validation phase\n",
    "        for phase in phases:\n",
    "            if phase == 'train':\n",
    "                model.train()  # Set model to training mode\n",
    "            else:\n",
    "                model.eval()   # Set model to evaluate mode\n",
    "\n",
    "            running_loss = 0.0\n",
    "            running_corrects = 0\n",
    "            \n",
    "            #initialize tp etc. with zero:\n",
    "            tn, fn, fp, tp = 0, 0, 0, 0\n",
    "\n",
    "            # Iterate over data\n",
    "            for i, data in enumerate(dataloaders[phase]):\n",
    "                inputs = data[\"image\"].to(device)\n",
    "                labels = data[\"label\"].to(device)\n",
    "\n",
    "                # zero the parameter gradients\n",
    "                optimizer.zero_grad()\n",
    "\n",
    "                # forward\n",
    "                # track history if only in train\n",
    "                with torch.set_grad_enabled(phase == 'train'):\n",
    "                    outputs = model(inputs)\n",
    "                    _, predictions = torch.max(outputs, 1)\n",
    "                    loss = criterion(outputs, labels)\n",
    "\n",
    "                    # backward + optimize only if in training phase\n",
    "                    if phase == 'train':\n",
    "                        loss.backward()\n",
    "                        optimizer.step()\n",
    "                 \n",
    "                        \n",
    "                #calculate true positives etc.:\n",
    "                for pred, lab in zip(predictions, labels):\n",
    "                    if(pred == 0 and lab == 0):\n",
    "                        tn += 1\n",
    "                    if(pred == 0 and lab == 1):\n",
    "                        fn += 1\n",
    "                    if(pred == 1 and lab == 0):\n",
    "                        fp += 1\n",
    "                    if(pred ==1 and lab ==1):\n",
    "                        tp += 1\n",
    "                \n",
    "                \n",
    "                # statistics\n",
    "                running_loss += loss.item() * inputs.size(0)\n",
    "                running_corrects += torch.sum(predictions == labels.data)\n",
    "            \n",
    "                correct = (predictions == labels).sum().item()\n",
    "                total = labels.size(0)\n",
    "                nr_iterations = len(dataloaders[phase])\n",
    "            \n",
    "                #print out current results after another 100 iterations are done:\n",
    "                if (i+1) % 10 == 0: # TODO: change back to 100\n",
    "                    print ('Phase {}, Epoch [{}/{}], Step [{}/{}], Loss: {:.4f}, Accuracy: {:.2f}%' \n",
    "                           .format(phase, epoch+1, NUM_EPOCHS, i+1, nr_iterations, loss.item(), (correct / total) * 100))\n",
    "            \n",
    "            if phase == 'train':\n",
    "                scheduler.step()\n",
    "\n",
    "            epoch_loss = running_loss / dataset_sizes[phase]\n",
    "            epoch_acc = running_corrects.double() / dataset_sizes[phase]\n",
    "            \n",
    "            #calculate precision, recall and f1:\n",
    "            epoch_precision = tp / (tp + fp)\n",
    "            epoch_recall = tp / (tp + fn)\n",
    "            epoch_f1 = 2 * ((epoch_precision * epoch_recall) / (epoch_precision + epoch_recall))\n",
    "\n",
    "            print('{} Loss: {:.4f} Acc: {:.4f} Precision: {:.4f} Recall: {:.4f} F1: {:.4f}'.format(\n",
    "                phase, epoch_loss, epoch_acc, epoch_precision, epoch_recall, epoch_f1))\n",
    "\n",
    "            # deep copy the model (bisher mit accuracy)\n",
    "            if phase == 'val' and epoch_acc > best_acc:\n",
    "                best_acc = epoch_acc\n",
    "            #    best_model_wts = copy.deepcopy(model.state_dict())\n",
    "            \n",
    "            #alternativ mit f1:\n",
    "            if phase == 'val' and epoch_f1 > best_f1:\n",
    "                best_f1 = epoch_f1\n",
    "                best_model_wts = copy.deepcopy(model.state_dict())\n",
    "\n",
    "        print()\n",
    "\n",
    "    time_elapsed = time.time() - since\n",
    "    print('Training complete in {:.0f}m {:.0f}s'.format(\n",
    "        time_elapsed // 60, time_elapsed % 60))\n",
    "    print('Best val Acc: {:4f}'.format(best_acc))\n",
    "    print('Best val F1: {:4f}'.format(best_f1))\n",
    "\n",
    "    # load best model weights\n",
    "    model.load_state_dict(best_model_wts)\n",
    "    return model"
   ]
  },
  {
   "cell_type": "code",
   "execution_count": 77,
   "metadata": {},
   "outputs": [
    {
     "name": "stdout",
     "output_type": "stream",
     "text": [
      "Epoch 0/1\n",
      "----------\n",
      "Phase train, Epoch [1/2], Step [10/312], Loss: 0.3876, Accuracy: 81.25%\n",
      "Phase train, Epoch [1/2], Step [20/312], Loss: 0.3374, Accuracy: 84.38%\n",
      "Phase train, Epoch [1/2], Step [30/312], Loss: 0.4919, Accuracy: 75.00%\n",
      "Phase train, Epoch [1/2], Step [40/312], Loss: 0.3496, Accuracy: 84.38%\n",
      "Phase train, Epoch [1/2], Step [50/312], Loss: 0.2629, Accuracy: 85.94%\n",
      "Phase train, Epoch [1/2], Step [60/312], Loss: 0.3837, Accuracy: 81.25%\n",
      "Phase train, Epoch [1/2], Step [70/312], Loss: 0.4603, Accuracy: 79.69%\n",
      "Phase train, Epoch [1/2], Step [80/312], Loss: 0.2534, Accuracy: 92.19%\n",
      "Phase train, Epoch [1/2], Step [90/312], Loss: 0.3710, Accuracy: 84.38%\n",
      "Phase train, Epoch [1/2], Step [100/312], Loss: 0.3186, Accuracy: 87.50%\n",
      "Phase train, Epoch [1/2], Step [110/312], Loss: 0.3609, Accuracy: 89.06%\n",
      "Phase train, Epoch [1/2], Step [120/312], Loss: 0.3066, Accuracy: 85.94%\n",
      "Phase train, Epoch [1/2], Step [130/312], Loss: 0.4145, Accuracy: 89.06%\n",
      "Phase train, Epoch [1/2], Step [140/312], Loss: 0.4232, Accuracy: 82.81%\n",
      "Phase train, Epoch [1/2], Step [150/312], Loss: 0.5188, Accuracy: 75.00%\n",
      "Phase train, Epoch [1/2], Step [160/312], Loss: 0.2527, Accuracy: 92.19%\n",
      "Phase train, Epoch [1/2], Step [170/312], Loss: 0.3797, Accuracy: 82.81%\n",
      "Phase train, Epoch [1/2], Step [180/312], Loss: 0.3303, Accuracy: 87.50%\n",
      "Phase train, Epoch [1/2], Step [190/312], Loss: 0.3085, Accuracy: 90.62%\n",
      "Phase train, Epoch [1/2], Step [200/312], Loss: 0.2801, Accuracy: 89.06%\n",
      "Phase train, Epoch [1/2], Step [210/312], Loss: 0.4090, Accuracy: 78.12%\n",
      "Phase train, Epoch [1/2], Step [220/312], Loss: 0.2758, Accuracy: 89.06%\n",
      "Phase train, Epoch [1/2], Step [230/312], Loss: 0.3377, Accuracy: 81.25%\n",
      "Phase train, Epoch [1/2], Step [240/312], Loss: 0.4094, Accuracy: 82.81%\n",
      "Phase train, Epoch [1/2], Step [250/312], Loss: 0.3165, Accuracy: 84.38%\n",
      "Phase train, Epoch [1/2], Step [260/312], Loss: 0.4576, Accuracy: 79.69%\n",
      "Phase train, Epoch [1/2], Step [270/312], Loss: 0.3049, Accuracy: 89.06%\n",
      "Phase train, Epoch [1/2], Step [280/312], Loss: 0.3037, Accuracy: 92.19%\n",
      "Phase train, Epoch [1/2], Step [290/312], Loss: 0.4423, Accuracy: 76.56%\n",
      "Phase train, Epoch [1/2], Step [300/312], Loss: 0.3523, Accuracy: 85.94%\n",
      "Phase train, Epoch [1/2], Step [310/312], Loss: 0.3061, Accuracy: 89.06%\n",
      "train Loss: 0.3636 Acc: 0.8403 Precision: 0.7561 Recall: 0.6795 F1: 0.7157\n",
      "Phase val, Epoch [1/2], Step [10/46], Loss: 0.4605, Accuracy: 82.81%\n",
      "Phase val, Epoch [1/2], Step [20/46], Loss: 0.5174, Accuracy: 75.00%\n",
      "Phase val, Epoch [1/2], Step [30/46], Loss: 0.8947, Accuracy: 53.12%\n",
      "Phase val, Epoch [1/2], Step [40/46], Loss: 0.7843, Accuracy: 57.81%\n",
      "val Loss: 0.5435 Acc: 0.7240 Precision: 0.4189 Recall: 0.9209 F1: 0.5758\n",
      "\n",
      "Epoch 1/1\n",
      "----------\n",
      "Phase train, Epoch [2/2], Step [10/312], Loss: 0.2558, Accuracy: 92.19%\n",
      "Phase train, Epoch [2/2], Step [20/312], Loss: 0.4058, Accuracy: 82.81%\n",
      "Phase train, Epoch [2/2], Step [30/312], Loss: 0.3322, Accuracy: 90.62%\n"
     ]
    },
    {
     "ename": "KeyboardInterrupt",
     "evalue": "",
     "output_type": "error",
     "traceback": [
      "\u001b[0;31m---------------------------------------------------------------------------\u001b[0m",
      "\u001b[0;31mKeyboardInterrupt\u001b[0m                         Traceback (most recent call last)",
      "\u001b[0;32m<ipython-input-77-812857867a0b>\u001b[0m in \u001b[0;36m<module>\u001b[0;34m\u001b[0m\n\u001b[1;32m      1\u001b[0m \u001b[0;31m#training ausführen:\u001b[0m\u001b[0;34m\u001b[0m\u001b[0;34m\u001b[0m\u001b[0;34m\u001b[0m\u001b[0m\n\u001b[1;32m      2\u001b[0m \u001b[0;34m\u001b[0m\u001b[0m\n\u001b[0;32m----> 3\u001b[0;31m \u001b[0mmodel\u001b[0m \u001b[0;34m=\u001b[0m \u001b[0mtrain_model\u001b[0m\u001b[0;34m(\u001b[0m\u001b[0mmodel\u001b[0m\u001b[0;34m,\u001b[0m \u001b[0mcriterion\u001b[0m\u001b[0;34m,\u001b[0m \u001b[0moptimizer\u001b[0m\u001b[0;34m,\u001b[0m \u001b[0mscheduler\u001b[0m\u001b[0;34m,\u001b[0m \u001b[0mnum_epochs\u001b[0m\u001b[0;34m=\u001b[0m\u001b[0mNUM_EPOCHS\u001b[0m\u001b[0;34m)\u001b[0m\u001b[0;34m\u001b[0m\u001b[0;34m\u001b[0m\u001b[0m\n\u001b[0m",
      "\u001b[0;32m<ipython-input-76-270a99aa8d48>\u001b[0m in \u001b[0;36mtrain_model\u001b[0;34m(model, criterion, optimizer, scheduler, num_epochs)\u001b[0m\n\u001b[1;32m     38\u001b[0m                 \u001b[0;31m# track history if only in train\u001b[0m\u001b[0;34m\u001b[0m\u001b[0;34m\u001b[0m\u001b[0;34m\u001b[0m\u001b[0m\n\u001b[1;32m     39\u001b[0m                 \u001b[0;32mwith\u001b[0m \u001b[0mtorch\u001b[0m\u001b[0;34m.\u001b[0m\u001b[0mset_grad_enabled\u001b[0m\u001b[0;34m(\u001b[0m\u001b[0mphase\u001b[0m \u001b[0;34m==\u001b[0m \u001b[0;34m'train'\u001b[0m\u001b[0;34m)\u001b[0m\u001b[0;34m:\u001b[0m\u001b[0;34m\u001b[0m\u001b[0;34m\u001b[0m\u001b[0m\n\u001b[0;32m---> 40\u001b[0;31m                     \u001b[0moutputs\u001b[0m \u001b[0;34m=\u001b[0m \u001b[0mmodel\u001b[0m\u001b[0;34m(\u001b[0m\u001b[0minputs\u001b[0m\u001b[0;34m)\u001b[0m\u001b[0;34m\u001b[0m\u001b[0;34m\u001b[0m\u001b[0m\n\u001b[0m\u001b[1;32m     41\u001b[0m                     \u001b[0m_\u001b[0m\u001b[0;34m,\u001b[0m \u001b[0mpredictions\u001b[0m \u001b[0;34m=\u001b[0m \u001b[0mtorch\u001b[0m\u001b[0;34m.\u001b[0m\u001b[0mmax\u001b[0m\u001b[0;34m(\u001b[0m\u001b[0moutputs\u001b[0m\u001b[0;34m,\u001b[0m \u001b[0;36m1\u001b[0m\u001b[0;34m)\u001b[0m\u001b[0;34m\u001b[0m\u001b[0;34m\u001b[0m\u001b[0m\n\u001b[1;32m     42\u001b[0m                     \u001b[0mloss\u001b[0m \u001b[0;34m=\u001b[0m \u001b[0mcriterion\u001b[0m\u001b[0;34m(\u001b[0m\u001b[0moutputs\u001b[0m\u001b[0;34m,\u001b[0m \u001b[0mlabels\u001b[0m\u001b[0;34m)\u001b[0m\u001b[0;34m\u001b[0m\u001b[0;34m\u001b[0m\u001b[0m\n",
      "\u001b[0;32m~/.local/share/virtualenvs/BreastCancer-xbvsc4Xo/lib/python3.6/site-packages/torch/nn/modules/module.py\u001b[0m in \u001b[0;36m__call__\u001b[0;34m(self, *input, **kwargs)\u001b[0m\n\u001b[1;32m    539\u001b[0m             \u001b[0mresult\u001b[0m \u001b[0;34m=\u001b[0m \u001b[0mself\u001b[0m\u001b[0;34m.\u001b[0m\u001b[0m_slow_forward\u001b[0m\u001b[0;34m(\u001b[0m\u001b[0;34m*\u001b[0m\u001b[0minput\u001b[0m\u001b[0;34m,\u001b[0m \u001b[0;34m**\u001b[0m\u001b[0mkwargs\u001b[0m\u001b[0;34m)\u001b[0m\u001b[0;34m\u001b[0m\u001b[0;34m\u001b[0m\u001b[0m\n\u001b[1;32m    540\u001b[0m         \u001b[0;32melse\u001b[0m\u001b[0;34m:\u001b[0m\u001b[0;34m\u001b[0m\u001b[0;34m\u001b[0m\u001b[0m\n\u001b[0;32m--> 541\u001b[0;31m             \u001b[0mresult\u001b[0m \u001b[0;34m=\u001b[0m \u001b[0mself\u001b[0m\u001b[0;34m.\u001b[0m\u001b[0mforward\u001b[0m\u001b[0;34m(\u001b[0m\u001b[0;34m*\u001b[0m\u001b[0minput\u001b[0m\u001b[0;34m,\u001b[0m \u001b[0;34m**\u001b[0m\u001b[0mkwargs\u001b[0m\u001b[0;34m)\u001b[0m\u001b[0;34m\u001b[0m\u001b[0;34m\u001b[0m\u001b[0m\n\u001b[0m\u001b[1;32m    542\u001b[0m         \u001b[0;32mfor\u001b[0m \u001b[0mhook\u001b[0m \u001b[0;32min\u001b[0m \u001b[0mself\u001b[0m\u001b[0;34m.\u001b[0m\u001b[0m_forward_hooks\u001b[0m\u001b[0;34m.\u001b[0m\u001b[0mvalues\u001b[0m\u001b[0;34m(\u001b[0m\u001b[0;34m)\u001b[0m\u001b[0;34m:\u001b[0m\u001b[0;34m\u001b[0m\u001b[0;34m\u001b[0m\u001b[0m\n\u001b[1;32m    543\u001b[0m             \u001b[0mhook_result\u001b[0m \u001b[0;34m=\u001b[0m \u001b[0mhook\u001b[0m\u001b[0;34m(\u001b[0m\u001b[0mself\u001b[0m\u001b[0;34m,\u001b[0m \u001b[0minput\u001b[0m\u001b[0;34m,\u001b[0m \u001b[0mresult\u001b[0m\u001b[0;34m)\u001b[0m\u001b[0;34m\u001b[0m\u001b[0;34m\u001b[0m\u001b[0m\n",
      "\u001b[0;32m<ipython-input-37-d7afc074f211>\u001b[0m in \u001b[0;36mforward\u001b[0;34m(self, x)\u001b[0m\n\u001b[1;32m     31\u001b[0m         \u001b[0mout\u001b[0m \u001b[0;34m=\u001b[0m \u001b[0mself\u001b[0m\u001b[0;34m.\u001b[0m\u001b[0mconvLayer1\u001b[0m\u001b[0;34m(\u001b[0m\u001b[0mx\u001b[0m\u001b[0;34m)\u001b[0m\u001b[0;34m\u001b[0m\u001b[0;34m\u001b[0m\u001b[0m\n\u001b[1;32m     32\u001b[0m         \u001b[0;31m#print(\"after conv1: \" + str(out.shape))\u001b[0m\u001b[0;34m\u001b[0m\u001b[0;34m\u001b[0m\u001b[0;34m\u001b[0m\u001b[0m\n\u001b[0;32m---> 33\u001b[0;31m         \u001b[0mout\u001b[0m \u001b[0;34m=\u001b[0m \u001b[0mself\u001b[0m\u001b[0;34m.\u001b[0m\u001b[0mconvLayer2\u001b[0m\u001b[0;34m(\u001b[0m\u001b[0mout\u001b[0m\u001b[0;34m)\u001b[0m\u001b[0;34m\u001b[0m\u001b[0;34m\u001b[0m\u001b[0m\n\u001b[0m\u001b[1;32m     34\u001b[0m         \u001b[0;31m#print(\"after conv2: \" + str(out.shape)) # after conv2: torch.Size([32, 32, 34, 34])\u001b[0m\u001b[0;34m\u001b[0m\u001b[0;34m\u001b[0m\u001b[0;34m\u001b[0m\u001b[0m\n\u001b[1;32m     35\u001b[0m         \u001b[0;31m# what does reshape do? -> flatten. why befor drop_out?\u001b[0m\u001b[0;34m\u001b[0m\u001b[0;34m\u001b[0m\u001b[0;34m\u001b[0m\u001b[0m\n",
      "\u001b[0;32m~/.local/share/virtualenvs/BreastCancer-xbvsc4Xo/lib/python3.6/site-packages/torch/nn/modules/module.py\u001b[0m in \u001b[0;36m__call__\u001b[0;34m(self, *input, **kwargs)\u001b[0m\n\u001b[1;32m    539\u001b[0m             \u001b[0mresult\u001b[0m \u001b[0;34m=\u001b[0m \u001b[0mself\u001b[0m\u001b[0;34m.\u001b[0m\u001b[0m_slow_forward\u001b[0m\u001b[0;34m(\u001b[0m\u001b[0;34m*\u001b[0m\u001b[0minput\u001b[0m\u001b[0;34m,\u001b[0m \u001b[0;34m**\u001b[0m\u001b[0mkwargs\u001b[0m\u001b[0;34m)\u001b[0m\u001b[0;34m\u001b[0m\u001b[0;34m\u001b[0m\u001b[0m\n\u001b[1;32m    540\u001b[0m         \u001b[0;32melse\u001b[0m\u001b[0;34m:\u001b[0m\u001b[0;34m\u001b[0m\u001b[0;34m\u001b[0m\u001b[0m\n\u001b[0;32m--> 541\u001b[0;31m             \u001b[0mresult\u001b[0m \u001b[0;34m=\u001b[0m \u001b[0mself\u001b[0m\u001b[0;34m.\u001b[0m\u001b[0mforward\u001b[0m\u001b[0;34m(\u001b[0m\u001b[0;34m*\u001b[0m\u001b[0minput\u001b[0m\u001b[0;34m,\u001b[0m \u001b[0;34m**\u001b[0m\u001b[0mkwargs\u001b[0m\u001b[0;34m)\u001b[0m\u001b[0;34m\u001b[0m\u001b[0;34m\u001b[0m\u001b[0m\n\u001b[0m\u001b[1;32m    542\u001b[0m         \u001b[0;32mfor\u001b[0m \u001b[0mhook\u001b[0m \u001b[0;32min\u001b[0m \u001b[0mself\u001b[0m\u001b[0;34m.\u001b[0m\u001b[0m_forward_hooks\u001b[0m\u001b[0;34m.\u001b[0m\u001b[0mvalues\u001b[0m\u001b[0;34m(\u001b[0m\u001b[0;34m)\u001b[0m\u001b[0;34m:\u001b[0m\u001b[0;34m\u001b[0m\u001b[0;34m\u001b[0m\u001b[0m\n\u001b[1;32m    543\u001b[0m             \u001b[0mhook_result\u001b[0m \u001b[0;34m=\u001b[0m \u001b[0mhook\u001b[0m\u001b[0;34m(\u001b[0m\u001b[0mself\u001b[0m\u001b[0;34m,\u001b[0m \u001b[0minput\u001b[0m\u001b[0;34m,\u001b[0m \u001b[0mresult\u001b[0m\u001b[0;34m)\u001b[0m\u001b[0;34m\u001b[0m\u001b[0;34m\u001b[0m\u001b[0m\n",
      "\u001b[0;32m~/.local/share/virtualenvs/BreastCancer-xbvsc4Xo/lib/python3.6/site-packages/torch/nn/modules/container.py\u001b[0m in \u001b[0;36mforward\u001b[0;34m(self, input)\u001b[0m\n\u001b[1;32m     90\u001b[0m     \u001b[0;32mdef\u001b[0m \u001b[0mforward\u001b[0m\u001b[0;34m(\u001b[0m\u001b[0mself\u001b[0m\u001b[0;34m,\u001b[0m \u001b[0minput\u001b[0m\u001b[0;34m)\u001b[0m\u001b[0;34m:\u001b[0m\u001b[0;34m\u001b[0m\u001b[0;34m\u001b[0m\u001b[0m\n\u001b[1;32m     91\u001b[0m         \u001b[0;32mfor\u001b[0m \u001b[0mmodule\u001b[0m \u001b[0;32min\u001b[0m \u001b[0mself\u001b[0m\u001b[0;34m.\u001b[0m\u001b[0m_modules\u001b[0m\u001b[0;34m.\u001b[0m\u001b[0mvalues\u001b[0m\u001b[0;34m(\u001b[0m\u001b[0;34m)\u001b[0m\u001b[0;34m:\u001b[0m\u001b[0;34m\u001b[0m\u001b[0;34m\u001b[0m\u001b[0m\n\u001b[0;32m---> 92\u001b[0;31m             \u001b[0minput\u001b[0m \u001b[0;34m=\u001b[0m \u001b[0mmodule\u001b[0m\u001b[0;34m(\u001b[0m\u001b[0minput\u001b[0m\u001b[0;34m)\u001b[0m\u001b[0;34m\u001b[0m\u001b[0;34m\u001b[0m\u001b[0m\n\u001b[0m\u001b[1;32m     93\u001b[0m         \u001b[0;32mreturn\u001b[0m \u001b[0minput\u001b[0m\u001b[0;34m\u001b[0m\u001b[0;34m\u001b[0m\u001b[0m\n\u001b[1;32m     94\u001b[0m \u001b[0;34m\u001b[0m\u001b[0m\n",
      "\u001b[0;32m~/.local/share/virtualenvs/BreastCancer-xbvsc4Xo/lib/python3.6/site-packages/torch/nn/modules/module.py\u001b[0m in \u001b[0;36m__call__\u001b[0;34m(self, *input, **kwargs)\u001b[0m\n\u001b[1;32m    539\u001b[0m             \u001b[0mresult\u001b[0m \u001b[0;34m=\u001b[0m \u001b[0mself\u001b[0m\u001b[0;34m.\u001b[0m\u001b[0m_slow_forward\u001b[0m\u001b[0;34m(\u001b[0m\u001b[0;34m*\u001b[0m\u001b[0minput\u001b[0m\u001b[0;34m,\u001b[0m \u001b[0;34m**\u001b[0m\u001b[0mkwargs\u001b[0m\u001b[0;34m)\u001b[0m\u001b[0;34m\u001b[0m\u001b[0;34m\u001b[0m\u001b[0m\n\u001b[1;32m    540\u001b[0m         \u001b[0;32melse\u001b[0m\u001b[0;34m:\u001b[0m\u001b[0;34m\u001b[0m\u001b[0;34m\u001b[0m\u001b[0m\n\u001b[0;32m--> 541\u001b[0;31m             \u001b[0mresult\u001b[0m \u001b[0;34m=\u001b[0m \u001b[0mself\u001b[0m\u001b[0;34m.\u001b[0m\u001b[0mforward\u001b[0m\u001b[0;34m(\u001b[0m\u001b[0;34m*\u001b[0m\u001b[0minput\u001b[0m\u001b[0;34m,\u001b[0m \u001b[0;34m**\u001b[0m\u001b[0mkwargs\u001b[0m\u001b[0;34m)\u001b[0m\u001b[0;34m\u001b[0m\u001b[0;34m\u001b[0m\u001b[0m\n\u001b[0m\u001b[1;32m    542\u001b[0m         \u001b[0;32mfor\u001b[0m \u001b[0mhook\u001b[0m \u001b[0;32min\u001b[0m \u001b[0mself\u001b[0m\u001b[0;34m.\u001b[0m\u001b[0m_forward_hooks\u001b[0m\u001b[0;34m.\u001b[0m\u001b[0mvalues\u001b[0m\u001b[0;34m(\u001b[0m\u001b[0;34m)\u001b[0m\u001b[0;34m:\u001b[0m\u001b[0;34m\u001b[0m\u001b[0;34m\u001b[0m\u001b[0m\n\u001b[1;32m    543\u001b[0m             \u001b[0mhook_result\u001b[0m \u001b[0;34m=\u001b[0m \u001b[0mhook\u001b[0m\u001b[0;34m(\u001b[0m\u001b[0mself\u001b[0m\u001b[0;34m,\u001b[0m \u001b[0minput\u001b[0m\u001b[0;34m,\u001b[0m \u001b[0mresult\u001b[0m\u001b[0;34m)\u001b[0m\u001b[0;34m\u001b[0m\u001b[0;34m\u001b[0m\u001b[0m\n",
      "\u001b[0;32m~/.local/share/virtualenvs/BreastCancer-xbvsc4Xo/lib/python3.6/site-packages/torch/nn/modules/conv.py\u001b[0m in \u001b[0;36mforward\u001b[0;34m(self, input)\u001b[0m\n\u001b[1;32m    343\u001b[0m \u001b[0;34m\u001b[0m\u001b[0m\n\u001b[1;32m    344\u001b[0m     \u001b[0;32mdef\u001b[0m \u001b[0mforward\u001b[0m\u001b[0;34m(\u001b[0m\u001b[0mself\u001b[0m\u001b[0;34m,\u001b[0m \u001b[0minput\u001b[0m\u001b[0;34m)\u001b[0m\u001b[0;34m:\u001b[0m\u001b[0;34m\u001b[0m\u001b[0;34m\u001b[0m\u001b[0m\n\u001b[0;32m--> 345\u001b[0;31m         \u001b[0;32mreturn\u001b[0m \u001b[0mself\u001b[0m\u001b[0;34m.\u001b[0m\u001b[0mconv2d_forward\u001b[0m\u001b[0;34m(\u001b[0m\u001b[0minput\u001b[0m\u001b[0;34m,\u001b[0m \u001b[0mself\u001b[0m\u001b[0;34m.\u001b[0m\u001b[0mweight\u001b[0m\u001b[0;34m)\u001b[0m\u001b[0;34m\u001b[0m\u001b[0;34m\u001b[0m\u001b[0m\n\u001b[0m\u001b[1;32m    346\u001b[0m \u001b[0;34m\u001b[0m\u001b[0m\n\u001b[1;32m    347\u001b[0m \u001b[0;32mclass\u001b[0m \u001b[0mConv3d\u001b[0m\u001b[0;34m(\u001b[0m\u001b[0m_ConvNd\u001b[0m\u001b[0;34m)\u001b[0m\u001b[0;34m:\u001b[0m\u001b[0;34m\u001b[0m\u001b[0;34m\u001b[0m\u001b[0m\n",
      "\u001b[0;32m~/.local/share/virtualenvs/BreastCancer-xbvsc4Xo/lib/python3.6/site-packages/torch/nn/modules/conv.py\u001b[0m in \u001b[0;36mconv2d_forward\u001b[0;34m(self, input, weight)\u001b[0m\n\u001b[1;32m    340\u001b[0m                             _pair(0), self.dilation, self.groups)\n\u001b[1;32m    341\u001b[0m         return F.conv2d(input, weight, self.bias, self.stride,\n\u001b[0;32m--> 342\u001b[0;31m                         self.padding, self.dilation, self.groups)\n\u001b[0m\u001b[1;32m    343\u001b[0m \u001b[0;34m\u001b[0m\u001b[0m\n\u001b[1;32m    344\u001b[0m     \u001b[0;32mdef\u001b[0m \u001b[0mforward\u001b[0m\u001b[0;34m(\u001b[0m\u001b[0mself\u001b[0m\u001b[0;34m,\u001b[0m \u001b[0minput\u001b[0m\u001b[0;34m)\u001b[0m\u001b[0;34m:\u001b[0m\u001b[0;34m\u001b[0m\u001b[0;34m\u001b[0m\u001b[0m\n",
      "\u001b[0;31mKeyboardInterrupt\u001b[0m: "
     ]
    }
   ],
   "source": [
    "#training ausführen:\n",
    "\n",
    "model = train_model(model, criterion, optimizer, scheduler, num_epochs=NUM_EPOCHS)\n",
    "\n",
    "#Save our model to new directory\n",
    "#to keep track of different models created we append a timestamp to the model name\n",
    "time = datetime.now(tz=None)\n",
    "timestamp = str(time.year) + \"_\" + str(time.month) + \"_\" + str(time.day) + \"_\" + str(time.hour)+ \":\" + str(time.minute)+ \":\" + str(time.second)\n",
    "\n",
    "new_model_new_dir = OUTPUT_PATH + timestamp\n",
    "os.mkdir(new_model_new_dir)\n",
    "curr_model_output_path = new_model_new_dir + \"/model_version_\" + timestamp + \".pth\"\n",
    "torch.save(model.state_dict(), curr_model_output_path)"
   ]
  },
  {
   "cell_type": "markdown",
   "metadata": {},
   "source": [
    "#### Save loss and accuracy from training to same directory as model above"
   ]
  },
  {
   "cell_type": "code",
   "execution_count": 180,
   "metadata": {},
   "outputs": [],
   "source": [
    "#save loss and acc after training: \n",
    "#TODO: compare later with results from testing?\n",
    "\n",
    "len_loss = len(loss_list) # nrEpoch * nrIterationsPerEpoch\n",
    "#print(len_loss)\n",
    "\n",
    "#create pandas df with loss and acc from training:\n",
    "loss_acc_stats = pd.DataFrame(loss_list, columns=[\"train_loss\"])\n",
    "loss_acc_stats[\"train_acc\"] = acc_list\n",
    "new_model_new_dir\n",
    "\n",
    "path = new_model_new_dir + \"/loss_acc_stats.json\"\n",
    "loss_acc_stats.to_json(path)\n",
    "\n",
    "#loss_acc_stats"
   ]
  },
  {
   "cell_type": "markdown",
   "metadata": {},
   "source": [
    "#### Load former loss and accuracy in again (if needed)"
   ]
  },
  {
   "cell_type": "code",
   "execution_count": 181,
   "metadata": {},
   "outputs": [
    {
     "data": {
      "text/plain": [
       "(21940, 2)"
      ]
     },
     "execution_count": 181,
     "metadata": {},
     "output_type": "execute_result"
    }
   ],
   "source": [
    "#load loss_acc_stats in again if needed:\n",
    "loaded_loss_acc_stats = pd.read_json(path)\n",
    "loaded_loss_acc_stats.shape"
   ]
  },
  {
   "cell_type": "markdown",
   "metadata": {},
   "source": [
    "### Visualization of training loss and accuracy"
   ]
  },
  {
   "cell_type": "code",
   "execution_count": 182,
   "metadata": {},
   "outputs": [
    {
     "data": {
      "text/plain": [
       "Text(0, 0.5, 'Train Accuracy')"
      ]
     },
     "execution_count": 182,
     "metadata": {},
     "output_type": "execute_result"
    },
    {
     "data": {
      "image/png": "[encoded data removed]",
      "text/plain": [
       "<Figure size 1440x360 with 2 Axes>"
      ]
     },
     "metadata": {},
     "output_type": "display_data"
    }
   ],
   "source": [
    "fig, ax = plt.subplots(1,2,figsize=(20,5))\n",
    "ax[0].plot(np.array(loaded_loss_acc_stats[\"train_loss\"]))\n",
    "ax[1].plot(np.array(loaded_loss_acc_stats[\"train_acc\"]))\n",
    "ax[0].set_xlabel(\"Steps\")\n",
    "ax[0].set_ylabel(\"Train Loss\")\n",
    "ax[1].set_xlabel(\"Steps\")\n",
    "ax[1].set_ylabel(\"Train Accuracy\")"
   ]
  },
  {
   "cell_type": "markdown",
   "metadata": {},
   "source": [
    "## Test our model"
   ]
  },
  {
   "cell_type": "markdown",
   "metadata": {},
   "source": [
    "### First load in the model from directory\n",
    "\n",
    "When the training is done we can just upload our saved model from the directory we saved it to"
   ]
  },
  {
   "cell_type": "code",
   "execution_count": 39,
   "metadata": {},
   "outputs": [
    {
     "data": {
      "text/plain": [
       "<All keys matched successfully>"
      ]
     },
     "execution_count": 39,
     "metadata": {},
     "output_type": "execute_result"
    }
   ],
   "source": [
    "#TODO ist alles wichtige in dem model drin? \n",
    "#see: https://pytorch.org/tutorials/beginner/saving_loading_models.html\n",
    "\n",
    "\n",
    "#JUST FOR NOW:\n",
    "curr_model_output_path = \"saved_models/model_version_2020_1_11_22:12:11/model_version_2020_1_11_22:12:11.pth\"\n",
    "\n",
    "#test with current model:\n",
    "model_to_test = ThreeLayerCNN()\n",
    "model_to_test.load_state_dict(torch.load(curr_model_output_path))"
   ]
  },
  {
   "cell_type": "markdown",
   "metadata": {},
   "source": [
    "### TODO was ist mit unseren validierungsdaten? noch nicht genutzt bisher"
   ]
  },
  {
   "cell_type": "markdown",
   "metadata": {},
   "source": [
    "### Test accuracy on the test image patches\n",
    "\n",
    "Setting the model to evaluation mode by calling model.eval() disables drop-out and batch normalization layers in our model.\n",
    "The function call torch.no_grad() on the other hand disables the autograd functionality in our model. It is not needed for evaluation. Further it speeds up the computations."
   ]
  },
  {
   "cell_type": "code",
   "execution_count": 43,
   "metadata": {},
   "outputs": [
    {
     "name": "stdout",
     "output_type": "stream",
     "text": [
      "outputs.data: tensor([[ 1.1094, -0.1617],\n",
      "        [ 0.4206,  0.1669],\n",
      "        [-1.6465,  2.0683],\n",
      "        [ 1.4617, -1.7075],\n",
      "        [-0.0880, -0.6063],\n",
      "        [-0.2227, -0.6956],\n",
      "        [ 2.1606, -2.3986],\n",
      "        [-0.1660,  1.9530],\n",
      "        [ 1.3142, -1.3870],\n",
      "        [ 0.5143, -0.2460],\n",
      "        [ 0.9425, -0.9261],\n",
      "        [-0.8838,  0.6661],\n",
      "        [ 0.3153, -1.4051],\n",
      "        [ 7.5904, -2.7344],\n",
      "        [-0.0766, -0.1923],\n",
      "        [ 0.9657,  0.1103],\n",
      "        [-0.5024,  1.3522],\n",
      "        [ 0.0676, -1.9019],\n",
      "        [-0.7425,  0.8384],\n",
      "        [ 0.2795, -0.5575],\n",
      "        [ 2.0539, -2.5005],\n",
      "        [ 1.8353, -2.5913],\n",
      "        [ 1.9205, -0.0184],\n",
      "        [ 4.5180, -3.0931],\n",
      "        [ 2.0695, -1.3346],\n",
      "        [ 2.4619, -0.4327],\n",
      "        [-0.8207, -1.3976],\n",
      "        [ 0.6544,  0.5012],\n",
      "        [-0.5590,  0.9989],\n",
      "        [ 0.7680, -1.1091],\n",
      "        [ 1.2894, -0.8370],\n",
      "        [-0.1474,  0.0534],\n",
      "        [-1.0354,  1.0898],\n",
      "        [ 0.2773,  0.8918],\n",
      "        [ 1.4618, -1.3260],\n",
      "        [ 0.8121, -0.0293],\n",
      "        [ 1.6232, -3.5971],\n",
      "        [ 0.8944, -1.0618],\n",
      "        [ 1.4261, -1.7906],\n",
      "        [ 0.7955, -1.7528],\n",
      "        [ 0.4345,  1.0342],\n",
      "        [ 2.0801, -0.9775],\n",
      "        [ 0.1371,  1.7844],\n",
      "        [ 0.8915, -1.2949],\n",
      "        [ 0.3332, -1.6352],\n",
      "        [ 0.4475, -0.5166],\n",
      "        [ 0.4042, -0.9004],\n",
      "        [ 4.8288, -3.4728],\n",
      "        [ 1.6148, -1.9681],\n",
      "        [-0.9465,  2.2104],\n",
      "        [ 0.8829, -0.4947],\n",
      "        [ 0.3765, -0.6469],\n",
      "        [ 1.5396, -1.7466],\n",
      "        [ 1.1757,  0.0600],\n",
      "        [ 1.6320, -0.6175],\n",
      "        [-0.5691,  0.9615],\n",
      "        [ 2.4181, -2.0633],\n",
      "        [ 1.1989, -0.3464],\n",
      "        [-0.7675,  0.5045],\n",
      "        [ 1.0156, -1.3726],\n",
      "        [ 0.3922, -0.5362],\n",
      "        [-1.1117,  1.3190],\n",
      "        [ 1.5696, -0.7625],\n",
      "        [-0.0440,  0.5064]])\n",
      "softmax: \n",
      "tensor([[7.8092e-01, 2.1908e-01],\n",
      "        [5.6307e-01, 4.3693e-01],\n",
      "        [2.3781e-02, 9.7622e-01],\n",
      "        [9.5966e-01, 4.0338e-02],\n",
      "        [6.2675e-01, 3.7325e-01],\n",
      "        [6.1605e-01, 3.8395e-01],\n",
      "        [9.8964e-01, 1.0362e-02],\n",
      "        [1.0726e-01, 8.9274e-01],\n",
      "        [9.3710e-01, 6.2903e-02],\n",
      "        [6.8143e-01, 3.1857e-01],\n",
      "        [8.6630e-01, 1.3370e-01],\n",
      "        [1.7511e-01, 8.2489e-01],\n",
      "        [8.4817e-01, 1.5183e-01],\n",
      "        [9.9997e-01, 3.2808e-05],\n",
      "        [5.2889e-01, 4.7111e-01],\n",
      "        [7.0170e-01, 2.9830e-01],\n",
      "        [1.3533e-01, 8.6467e-01],\n",
      "        [8.7755e-01, 1.2245e-01],\n",
      "        [1.7067e-01, 8.2933e-01],\n",
      "        [6.9783e-01, 3.0217e-01],\n",
      "        [9.8959e-01, 1.0411e-02],\n",
      "        [9.8819e-01, 1.1814e-02],\n",
      "        [8.7424e-01, 1.2576e-01],\n",
      "        [9.9951e-01, 4.9468e-04],\n",
      "        [9.6783e-01, 3.2166e-02],\n",
      "        [9.4758e-01, 5.2422e-02],\n",
      "        [6.4034e-01, 3.5966e-01],\n",
      "        [5.3824e-01, 4.6176e-01],\n",
      "        [1.7396e-01, 8.2604e-01],\n",
      "        [8.6728e-01, 1.3272e-01],\n",
      "        [8.9344e-01, 1.0656e-01],\n",
      "        [4.4998e-01, 5.5002e-01],\n",
      "        [1.0666e-01, 8.9334e-01],\n",
      "        [3.5103e-01, 6.4897e-01],\n",
      "        [9.4201e-01, 5.7987e-02],\n",
      "        [6.9876e-01, 3.0124e-01],\n",
      "        [9.9462e-01, 5.3770e-03],\n",
      "        [8.7613e-01, 1.2387e-01],\n",
      "        [9.6146e-01, 3.8539e-02],\n",
      "        [9.2746e-01, 7.2543e-02],\n",
      "        [3.5442e-01, 6.4558e-01],\n",
      "        [9.5511e-01, 4.4888e-02],\n",
      "        [1.6146e-01, 8.3854e-01],\n",
      "        [8.9902e-01, 1.0098e-01],\n",
      "        [8.7743e-01, 1.2257e-01],\n",
      "        [7.2393e-01, 2.7607e-01],\n",
      "        [7.8661e-01, 2.1339e-01],\n",
      "        [9.9975e-01, 2.4806e-04],\n",
      "        [9.7296e-01, 2.7044e-02],\n",
      "        [4.0819e-02, 9.5918e-01],\n",
      "        [7.9861e-01, 2.0139e-01],\n",
      "        [7.3563e-01, 2.6437e-01],\n",
      "        [9.6395e-01, 3.6046e-02],\n",
      "        [7.5318e-01, 2.4682e-01],\n",
      "        [9.0461e-01, 9.5389e-02],\n",
      "        [1.7790e-01, 8.2210e-01],\n",
      "        [9.8881e-01, 1.1191e-02],\n",
      "        [8.2423e-01, 1.7577e-01],\n",
      "        [2.1893e-01, 7.8107e-01],\n",
      "        [9.1593e-01, 8.4074e-02],\n",
      "        [7.1673e-01, 2.8327e-01],\n",
      "        [8.0858e-02, 9.1914e-01],\n",
      "        [9.1150e-01, 8.8499e-02],\n",
      "        [3.6577e-01, 6.3423e-01]])\n",
      "torch.max(outputs.data, 1): torch.return_types.max(\n",
      "values=tensor([ 1.1094,  0.4206,  2.0683,  1.4617, -0.0880, -0.2227,  2.1606,  1.9530,\n",
      "         1.3142,  0.5143,  0.9425,  0.6661,  0.3153,  7.5904, -0.0766,  0.9657,\n",
      "         1.3522,  0.0676,  0.8384,  0.2795,  2.0539,  1.8353,  1.9205,  4.5180,\n",
      "         2.0695,  2.4619, -0.8207,  0.6544,  0.9989,  0.7680,  1.2894,  0.0534,\n",
      "         1.0898,  0.8918,  1.4618,  0.8121,  1.6232,  0.8944,  1.4261,  0.7955,\n",
      "         1.0342,  2.0801,  1.7844,  0.8915,  0.3332,  0.4475,  0.4042,  4.8288,\n",
      "         1.6148,  2.2104,  0.8829,  0.3765,  1.5396,  1.1757,  1.6320,  0.9615,\n",
      "         2.4181,  1.1989,  0.5045,  1.0156,  0.3922,  1.3190,  1.5696,  0.5064]),\n",
      "indices=tensor([0, 0, 1, 0, 0, 0, 0, 1, 0, 0, 0, 1, 0, 0, 0, 0, 1, 0, 1, 0, 0, 0, 0, 0,\n",
      "        0, 0, 0, 0, 1, 0, 0, 1, 1, 1, 0, 0, 0, 0, 0, 0, 1, 0, 1, 0, 0, 0, 0, 0,\n",
      "        0, 1, 0, 0, 0, 0, 0, 1, 0, 0, 1, 0, 0, 1, 0, 1]))\n",
      "predicted: tensor([0, 0, 1, 0, 0, 0, 0, 1, 0, 0, 0, 1, 0, 0, 0, 0, 1, 0, 1, 0, 0, 0, 0, 0,\n",
      "        0, 0, 0, 0, 1, 0, 0, 1, 1, 1, 0, 0, 0, 0, 0, 0, 1, 0, 1, 0, 0, 0, 0, 0,\n",
      "        0, 1, 0, 0, 0, 0, 0, 1, 0, 0, 1, 0, 0, 1, 0, 1])\n"
     ]
    },
    {
     "name": "stderr",
     "output_type": "stream",
     "text": [
      "/home/laureslinuxes/.local/share/virtualenvs/BreastCancer-xbvsc4Xo/lib/python3.6/site-packages/ipykernel_launcher.py:27: UserWarning: Implicit dimension choice for softmax has been deprecated. Change the call to include dim=X as an argument.\n"
     ]
    },
    {
     "ename": "KeyboardInterrupt",
     "evalue": "",
     "output_type": "error",
     "traceback": [
      "\u001b[0;31m---------------------------------------------------------------------------\u001b[0m",
      "\u001b[0;31mKeyboardInterrupt\u001b[0m                         Traceback (most recent call last)",
      "\u001b[0;32m<ipython-input-43-9ab77aec8c54>\u001b[0m in \u001b[0;36m<module>\u001b[0;34m\u001b[0m\n\u001b[1;32m     36\u001b[0m \u001b[0;34m\u001b[0m\u001b[0m\n\u001b[1;32m     37\u001b[0m         \u001b[0;31m#iterate over predicted and labels to get tp, fp, tn, tf:\u001b[0m\u001b[0;34m\u001b[0m\u001b[0;34m\u001b[0m\u001b[0;34m\u001b[0m\u001b[0m\n\u001b[0;32m---> 38\u001b[0;31m         \u001b[0;32mfor\u001b[0m \u001b[0mpred\u001b[0m\u001b[0;34m,\u001b[0m \u001b[0mlab\u001b[0m \u001b[0;32min\u001b[0m \u001b[0mzip\u001b[0m\u001b[0;34m(\u001b[0m\u001b[0mpredicted\u001b[0m\u001b[0;34m,\u001b[0m \u001b[0mlabels\u001b[0m\u001b[0;34m)\u001b[0m\u001b[0;34m:\u001b[0m\u001b[0;34m\u001b[0m\u001b[0;34m\u001b[0m\u001b[0m\n\u001b[0m\u001b[1;32m     39\u001b[0m             \u001b[0;32mif\u001b[0m\u001b[0;34m(\u001b[0m\u001b[0mpred\u001b[0m \u001b[0;34m==\u001b[0m \u001b[0;36m0\u001b[0m \u001b[0;32mand\u001b[0m \u001b[0mlab\u001b[0m \u001b[0;34m==\u001b[0m \u001b[0;36m0\u001b[0m\u001b[0;34m)\u001b[0m\u001b[0;34m:\u001b[0m\u001b[0;34m\u001b[0m\u001b[0;34m\u001b[0m\u001b[0m\n\u001b[1;32m     40\u001b[0m                 \u001b[0mtn\u001b[0m \u001b[0;34m+=\u001b[0m \u001b[0;36m1\u001b[0m\u001b[0;34m\u001b[0m\u001b[0;34m\u001b[0m\u001b[0m\n",
      "\u001b[0;32m~/.local/share/virtualenvs/BreastCancer-xbvsc4Xo/lib/python3.6/site-packages/torch/tensor.py\u001b[0m in \u001b[0;36m<lambda>\u001b[0;34m(i)\u001b[0m\n\u001b[1;32m    425\u001b[0m                           \u001b[0;34m'iterations executed (and might lead to errors or silently give '\u001b[0m\u001b[0;34m\u001b[0m\u001b[0;34m\u001b[0m\u001b[0m\n\u001b[1;32m    426\u001b[0m                           'incorrect results).', category=RuntimeWarning)\n\u001b[0;32m--> 427\u001b[0;31m         \u001b[0;32mreturn\u001b[0m \u001b[0miter\u001b[0m\u001b[0;34m(\u001b[0m\u001b[0mimap\u001b[0m\u001b[0;34m(\u001b[0m\u001b[0;32mlambda\u001b[0m \u001b[0mi\u001b[0m\u001b[0;34m:\u001b[0m \u001b[0mself\u001b[0m\u001b[0;34m[\u001b[0m\u001b[0mi\u001b[0m\u001b[0;34m]\u001b[0m\u001b[0;34m,\u001b[0m \u001b[0mrange\u001b[0m\u001b[0;34m(\u001b[0m\u001b[0mself\u001b[0m\u001b[0;34m.\u001b[0m\u001b[0msize\u001b[0m\u001b[0;34m(\u001b[0m\u001b[0;36m0\u001b[0m\u001b[0;34m)\u001b[0m\u001b[0;34m)\u001b[0m\u001b[0;34m)\u001b[0m\u001b[0;34m)\u001b[0m\u001b[0;34m\u001b[0m\u001b[0;34m\u001b[0m\u001b[0m\n\u001b[0m\u001b[1;32m    428\u001b[0m \u001b[0;34m\u001b[0m\u001b[0m\n\u001b[1;32m    429\u001b[0m     \u001b[0;32mdef\u001b[0m \u001b[0m__hash__\u001b[0m\u001b[0;34m(\u001b[0m\u001b[0mself\u001b[0m\u001b[0;34m)\u001b[0m\u001b[0;34m:\u001b[0m\u001b[0;34m\u001b[0m\u001b[0;34m\u001b[0m\u001b[0m\n",
      "\u001b[0;31mKeyboardInterrupt\u001b[0m: "
     ]
    }
   ],
   "source": [
    "#set the model to evaluation mode\n",
    "model_to_test.eval()\n",
    "\n",
    "confusion_matrix = torch.zeros(2, 2)\n",
    "\n",
    "with torch.no_grad():\n",
    "    correct = 0\n",
    "    tn = 0 \n",
    "    fn = 0 \n",
    "    fp = 0 \n",
    "    tp = 0 \n",
    "    total = 0\n",
    "    \n",
    "    #nur für jetzt:\n",
    "    a = 0\n",
    "    d = 0\n",
    "    \n",
    "    #for images, labels in test_dataloader:\n",
    "    for i, data in enumerate(test_dataloader):\n",
    "        images = data[\"image\"].to(device)\n",
    "        labels = data[\"label\"].to(device)\n",
    "        \n",
    "        outputs = model_to_test(images)\n",
    "        if(a == 0):\n",
    "            print(\"outputs.data: \" + str(outputs.data))\n",
    "            print(\"softmax: \")\n",
    "            print(nn.functional.softmax(outputs)) # HIER KOMMEN DIE WAHRSCHEINLICHKEITEN RAUS\n",
    "            a = 1\n",
    "        _, predicted = torch.max(outputs.data, 1)\n",
    "        if(d == 0):\n",
    "            print(\"torch.max(outputs.data, 1): \" + str(torch.max(outputs.data, 1)))\n",
    "            print(\"predicted: \" + str(predicted))\n",
    "            d = 1\n",
    "        total += labels.size(0)\n",
    "        correct += (predicted == labels).sum().item()\n",
    "        \n",
    "        #iterate over predicted and labels to get tp, fp, tn, tf:\n",
    "        for pred, lab in zip(predicted, labels):\n",
    "            if(pred == 0 and lab == 0):\n",
    "                tn += 1\n",
    "            if(pred == 0 and lab == 1):\n",
    "                fn += 1\n",
    "            if(pred == 1 and lab == 0):\n",
    "                fp += 1\n",
    "            if(pred ==1 and lab ==1):\n",
    "                tp += 1\n",
    "        \n",
    "            #befill confusion_matrix:\n",
    "            confusion_matrix[lab.long(), pred.long()] += 1\n",
    "        \n",
    "    \n",
    "    print('Anzahl Testdaten gesamt: ' + str(total))\n",
    "    print('Richtig vorhergesagt (TN und TP): ' + str(correct))\n",
    "    print('Falsch vorhergesagt (FN und FP): ' + str(total - correct))\n",
    "    print('True negative: ' + str(tn))\n",
    "    print('False negative: ' + str(fn))\n",
    "    print('False positive: ' + str(fp))\n",
    "    print('True positive: ' + str(tp))\n",
    "    print('Test Accuracy of the model on the 43313 test image patches: {} %'.format((correct / total) * 100))\n",
    "\n",
    "# Save the model checkpoint\n",
    "#curr_model_eval_path = new_model_new_dir + \"/model_eval_\" + timestamp + \".ckpt\"\n",
    "#torch.save(model_to_test.state_dict(), curr_model_eval_path)"
   ]
  },
  {
   "cell_type": "markdown",
   "metadata": {},
   "source": [
    "### Confusion matrix"
   ]
  },
  {
   "cell_type": "code",
   "execution_count": 185,
   "metadata": {},
   "outputs": [
    {
     "name": "stdout",
     "output_type": "stream",
     "text": [
      "tensor([[24930.,  5335.],\n",
      "        [ 3195.,  9853.]])\n"
     ]
    }
   ],
   "source": [
    "print(confusion_matrix)"
   ]
  },
  {
   "cell_type": "code",
   "execution_count": 186,
   "metadata": {},
   "outputs": [
    {
     "data": {
      "text/html": [
       "<div>\n",
       "<style scoped>\n",
       "    .dataframe tbody tr th:only-of-type {\n",
       "        vertical-align: middle;\n",
       "    }\n",
       "\n",
       "    .dataframe tbody tr th {\n",
       "        vertical-align: top;\n",
       "    }\n",
       "\n",
       "    .dataframe thead th {\n",
       "        text-align: right;\n",
       "    }\n",
       "</style>\n",
       "<table border=\"1\" class=\"dataframe\">\n",
       "  <thead>\n",
       "    <tr style=\"text-align: right;\">\n",
       "      <th></th>\n",
       "      <th>Predicted: 0</th>\n",
       "      <th>Predicted: 1</th>\n",
       "    </tr>\n",
       "  </thead>\n",
       "  <tbody>\n",
       "    <tr>\n",
       "      <th>0</th>\n",
       "      <td>24930.0</td>\n",
       "      <td>5335.0</td>\n",
       "    </tr>\n",
       "    <tr>\n",
       "      <th>1</th>\n",
       "      <td>3195.0</td>\n",
       "      <td>9853.0</td>\n",
       "    </tr>\n",
       "  </tbody>\n",
       "</table>\n",
       "</div>"
      ],
      "text/plain": [
       "   Predicted: 0  Predicted: 1\n",
       "0       24930.0        5335.0\n",
       "1        3195.0        9853.0"
      ]
     },
     "execution_count": 186,
     "metadata": {},
     "output_type": "execute_result"
    }
   ],
   "source": [
    "#versuch umwandlung in numpy array, dann in pandas dataframe für einen plot (bisher nicht erfolgreich)\n",
    "matrix_as_arr = np.array(confusion_matrix)\n",
    "\n",
    "matrix_as_df = pd.DataFrame({'Predicted: 0': matrix_as_arr[:,0], 'Predicted: 1': matrix_as_arr[:,1]})\n",
    "matrix_as_df"
   ]
  },
  {
   "cell_type": "markdown",
   "metadata": {},
   "source": [
    "## TODO vielleicht richtig visualisieren oder too much? mir egal"
   ]
  },
  {
   "cell_type": "markdown",
   "metadata": {},
   "source": [
    "### Calculate precision and recall for our test results"
   ]
  },
  {
   "cell_type": "code",
   "execution_count": 187,
   "metadata": {},
   "outputs": [
    {
     "name": "stdout",
     "output_type": "stream",
     "text": [
      "Precision:\n",
      "\n",
      "Precision tells us how many of the overall predicted positive are actually true positive ones. Precision is a good measure to tell us if the cost of false positive is high.\n",
      "For our case: From the 15188 image patches that we predicted as having IDC, only 9853 patches actually contain IDC.\n",
      "Hence, only 64.87358440874374% are being predicted right.\n",
      "Depending on which patches belong to which image from which patient, we would have told quite some patients that they have IDC, even though they don't have it.\n",
      "\n",
      "\n",
      "Recall:\n",
      "\n",
      "Recall calculates how many of the actual positives from our model we captured through labeling them as positive. This metric tells us whether there is a high cost associated with false negative.\n",
      "For our case: From all the 13048 image patches that actually show IDC, we only predicted 9853 image patches correctly.\n",
      "Hence, 75.51348865726548% are being predicted right.\n",
      "Again depending on which patches belong to which image from which patient we would have told some patients they don't have IDC even though they have breast cancer.\n"
     ]
    }
   ],
   "source": [
    "#precision\n",
    "precision = tp / (tp + fp) #precision denominator: total predicted positive\n",
    "\n",
    "#recall\n",
    "recall = tp / (tp + fn) #recall denominator: total actual positive\n",
    "\n",
    "print(\"Precision:\")\n",
    "print()\n",
    "print(\"Precision tells us how many of the overall predicted positive are actually true positive ones. Precision is a good measure to tell us if the cost of false positive is high.\")\n",
    "print(\"For our case: From the \" + str(tp + fp) + \" image patches that we predicted as having IDC, only \" +\n",
    "      str(tp) + \" patches actually contain IDC.\")\n",
    "print(\"Hence, only \" + str(precision * 100) + \"% are being predicted right.\")\n",
    "print(\"Depending on which patches belong to which image from which patient, we would have told quite some patients that they have IDC, even though they don't have it.\")\n",
    "print()\n",
    "print()\n",
    "print(\"Recall:\")\n",
    "print()\n",
    "print(\"Recall calculates how many of the actual positives from our model we captured through labeling them as positive. This metric tells us whether there is a high cost associated with false negative.\")\n",
    "print(\"For our case: From all the \" + str(tp + fn) + \" image patches that actually show IDC, we only predicted \" +\n",
    "     str(tp) + \" image patches correctly.\")\n",
    "print(\"Hence, \" + str(recall * 100) + \"% are being predicted right.\")\n",
    "print(\"Again depending on which patches belong to which image from which patient we would have told some patients they don't have IDC even though they have breast cancer.\")\n"
   ]
  },
  {
   "cell_type": "markdown",
   "metadata": {},
   "source": [
    "### Calculate F1 measure for our test results"
   ]
  },
  {
   "cell_type": "code",
   "execution_count": 188,
   "metadata": {},
   "outputs": [
    {
     "name": "stdout",
     "output_type": "stream",
     "text": [
      "F1 score is needed when seeking a balance between precision and recall. Even though accuracy is a similar measurement, the accuracy can be influenced by a large number of true negatives  (saying an uneven class distribution).\n",
      "\n",
      "In our case considering the test dataset, from the overall 43313 patches, 30265 patches contain no IDC, while 13048 contain IDC.\n",
      "So, 69.87509523699582% of the patches contain no IDC and 30.124904763004178% have IDC in them.\n",
      "As shown above the number of true negatives (24930) is quite high in our test data.\n",
      "\n",
      "The F1 score for our test data is: 0.6979033857486896\n"
     ]
    }
   ],
   "source": [
    "#calc f1\n",
    "f1 = 2 * ((precision * recall) / (precision + recall))\n",
    "\n",
    "all_patches = tn + fp + fn + tp\n",
    "\n",
    "print(\"F1 score is needed when seeking a balance between precision and recall. \" +\n",
    "      \"Even though accuracy is a similar measurement, the accuracy can be influenced by a large number of true negatives \" +\n",
    "      \" (saying an uneven class distribution).\")\n",
    "print()\n",
    "print(\"In our case considering the test dataset, from the overall \" + str(all_patches) + \" patches, \" +\n",
    "      str(tn + fp) + \" patches contain no IDC, while \" + str(fn + tp) + \" contain IDC.\")\n",
    "print(\"So, \" + str(((tn + fp) / all_patches) * 100) + \"% of the patches contain no IDC and \" \n",
    "      + str(((fn + tp) / all_patches) * 100) + \"% have IDC in them.\")\n",
    "print(\"As shown above the number of true negatives (\" + str(tn) + \") is quite high in our test data.\")\n",
    "print()\n",
    "print(\"The F1 score for our test data is: \" + str(f1))\n",
    "#TODO noch mehr erläutern???"
   ]
  },
  {
   "cell_type": "markdown",
   "metadata": {},
   "source": [
    "## Visualize results\n",
    "\n",
    "## TODO: Hier wird gerade nur ein einfacher plot von accuracy und loss gemacht, noch mehr machen"
   ]
  },
  {
   "cell_type": "code",
   "execution_count": 189,
   "metadata": {},
   "outputs": [],
   "source": [
    "# TODO vervollständigen; mehr visualisierung etc.\n",
    "p = figure(y_axis_label='Loss', width=850, y_range=(0, 1), title='Model results')\n",
    "p.extra_y_ranges = {'Accuracy': Range1d(start=0, end=100)}\n",
    "p.add_layout(LinearAxis(y_range_name='Accuracy', axis_label='Accuracy (%)'), 'right')\n",
    "p.line(np.arange(len(loss_list)), loss_list)\n",
    "p.line(np.arange(len(loss_list)), np.array(acc_list) * 100, y_range_name='Accuracy', color='red')\n",
    "show(p)"
   ]
  },
  {
   "cell_type": "code",
   "execution_count": 190,
   "metadata": {},
   "outputs": [],
   "source": [
    "#to save bokeh plot needs installation:\n",
    "#pip install selenium\n",
    "#this didn't work:\n",
    "#npm install -g phantomjs-prebuilt\n"
   ]
  },
  {
   "cell_type": "code",
   "execution_count": 191,
   "metadata": {},
   "outputs": [],
   "source": [
    "#export plot and save to directory:\n",
    "#from bokeh.io import export_png\n",
    "#file_path = new_model_new_dir + \"bokeh_plot.png\"\n",
    "#export_png(p, filename=file_path)"
   ]
  },
  {
   "cell_type": "code",
   "execution_count": null,
   "metadata": {},
   "outputs": [],
   "source": []
  }
 ],
 "metadata": {
  "kernelspec": {
   "display_name": "BreastCancer",
   "language": "python",
   "name": "breastcancer"
  },
  "language_info": {
   "codemirror_mode": {
    "name": "ipython",
    "version": 3
   },
   "file_extension": ".py",
   "mimetype": "text/x-python",
   "name": "python",
   "nbconvert_exporter": "python",
   "pygments_lexer": "ipython3",
   "version": "3.6.9"
  }
 },
 "nbformat": 4,
 "nbformat_minor": 2
}
